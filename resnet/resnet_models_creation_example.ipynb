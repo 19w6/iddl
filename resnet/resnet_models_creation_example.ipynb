{
 "cells": [
  {
   "cell_type": "code",
   "execution_count": 5,
   "metadata": {},
   "outputs": [],
   "source": [
    "# # For inline plotting\n",
    "# %matplotlib inline\n",
    "\n",
    "# # For auto reloading\n",
    "# %load_ext autoreload\n",
    "# %autoreload 2"
   ]
  },
  {
   "cell_type": "code",
   "execution_count": 6,
   "metadata": {},
   "outputs": [
    {
     "name": "stdout",
     "output_type": "stream",
     "text": [
      "Using PyTorch version: 1.3.1  Device: cuda\n"
     ]
    }
   ],
   "source": [
    "import torch\n",
    "\n",
    "\n",
    "if torch.cuda.is_available():\n",
    "    device = torch.device('cuda')\n",
    "else:\n",
    "    device = torch.device('cpu')\n",
    "    \n",
    "print('Using PyTorch version:', torch.__version__, ' Device:', device)"
   ]
  },
  {
   "cell_type": "code",
   "execution_count": 7,
   "metadata": {},
   "outputs": [
    {
     "name": "stdout",
     "output_type": "stream",
     "text": [
      "ResNet-18\n",
      "B-ResNet-34\n",
      "B-ResNet-34-V-4\n",
      "R-ResNet-34-V-8\n"
     ]
    }
   ],
   "source": [
    "import numpy as np\n",
    "from models.sparse_resnet_v import create_resnet\n",
    "\n",
    "\n",
    "input = torch.randn(1, 3, 32, 32).to(device)\n",
    "model_list = []\n",
    "model_list.append(create_resnet('18', name='ResNet-18'))\n",
    "model_list.append(create_resnet('34', sparsification='bibd', name='B-ResNet-34'))\n",
    "model_list.append(create_resnet('34', sparsification='bibd', num_groups=4, name='B-ResNet-34-V-4'))\n",
    "model_list.append(create_resnet('50', sparsification='random', num_groups=8, name='R-ResNet-34-V-8'))\n",
    "\n",
    "for model in model_list:\n",
    "    print(model.name)"
   ]
  },
  {
   "cell_type": "code",
   "execution_count": null,
   "metadata": {},
   "outputs": [],
   "source": []
  }
 ],
 "metadata": {
  "kernelspec": {
   "display_name": "Python 3",
   "language": "python",
   "name": "python3"
  },
  "language_info": {
   "codemirror_mode": {
    "name": "ipython",
    "version": 3
   },
   "file_extension": ".py",
   "mimetype": "text/x-python",
   "name": "python",
   "nbconvert_exporter": "python",
   "pygments_lexer": "ipython3",
   "version": "3.7.7"
  }
 },
 "nbformat": 4,
 "nbformat_minor": 4
}
