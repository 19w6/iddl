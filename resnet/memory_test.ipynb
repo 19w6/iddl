{
 "cells": [
  {
   "cell_type": "code",
   "execution_count": 1,
   "metadata": {},
   "outputs": [],
   "source": [
    "import torch\n",
    "a = torch.zeros(300000000, dtype=torch.int8, device='cuda')"
   ]
  },
  {
   "cell_type": "code",
   "execution_count": 2,
   "metadata": {},
   "outputs": [
    {
     "name": "stdout",
     "output_type": "stream",
     "text": [
      "Tue May 12 10:36:08 2020       \n",
      "+-----------------------------------------------------------------------------+\n",
      "| NVIDIA-SMI 440.33.01    Driver Version: 440.33.01    CUDA Version: 10.2     |\n",
      "|-------------------------------+----------------------+----------------------+\n",
      "| GPU  Name        Persistence-M| Bus-Id        Disp.A | Volatile Uncorr. ECC |\n",
      "| Fan  Temp  Perf  Pwr:Usage/Cap|         Memory-Usage | GPU-Util  Compute M. |\n",
      "|===============================+======================+======================|\n",
      "|   0  GeForce GTX 970     On   | 00000000:04:00.0  On |                  N/A |\n",
      "| 28%   40C    P2    41W / 151W |    936MiB /  4037MiB |      4%      Default |\n",
      "+-------------------------------+----------------------+----------------------+\n",
      "                                                                               \n",
      "+-----------------------------------------------------------------------------+\n",
      "| Processes:                                                       GPU Memory |\n",
      "|  GPU       PID   Type   Process name                             Usage      |\n",
      "|=============================================================================|\n",
      "|    0      2358      G   /usr/lib/xorg/Xorg                            16MiB |\n",
      "|    0      2528      G   /usr/bin/gnome-shell                           8MiB |\n",
      "|    0      7144      C   ...rek/miniconda3/envs/iddl_env/bin/python   643MiB |\n",
      "|    0      7798      G   /usr/lib/xorg/Xorg                           132MiB |\n",
      "|    0      7968      G   /usr/bin/gnome-shell                         109MiB |\n",
      "|    0     13142      G   /opt/teamviewer/tv_bin/TeamViewer              7MiB |\n",
      "+-----------------------------------------------------------------------------+\n",
      "CUDA memory allocated: 286.10MB\n",
      "CUDA memory cached: 288.00MB\n"
     ]
    }
   ],
   "source": [
    "!nvidia-smi\n",
    "print('CUDA memory allocated: {:.2f}MB'.format(torch.cuda.memory_allocated() / 2**20))\n",
    "print('CUDA memory cached: {:.2f}MB'.format(torch.cuda.memory_cached() / 2**20))"
   ]
  },
  {
   "cell_type": "code",
   "execution_count": 3,
   "metadata": {},
   "outputs": [],
   "source": [
    "a = a.to('cpu')\n",
    "del a"
   ]
  },
  {
   "cell_type": "code",
   "execution_count": 4,
   "metadata": {},
   "outputs": [
    {
     "name": "stdout",
     "output_type": "stream",
     "text": [
      "Tue May 12 10:36:08 2020       \n",
      "+-----------------------------------------------------------------------------+\n",
      "| NVIDIA-SMI 440.33.01    Driver Version: 440.33.01    CUDA Version: 10.2     |\n",
      "|-------------------------------+----------------------+----------------------+\n",
      "| GPU  Name        Persistence-M| Bus-Id        Disp.A | Volatile Uncorr. ECC |\n",
      "| Fan  Temp  Perf  Pwr:Usage/Cap|         Memory-Usage | GPU-Util  Compute M. |\n",
      "|===============================+======================+======================|\n",
      "|   0  GeForce GTX 970     On   | 00000000:04:00.0  On |                  N/A |\n",
      "| 28%   40C    P2    40W / 151W |    936MiB /  4037MiB |      8%      Default |\n",
      "+-------------------------------+----------------------+----------------------+\n",
      "                                                                               \n",
      "+-----------------------------------------------------------------------------+\n",
      "| Processes:                                                       GPU Memory |\n",
      "|  GPU       PID   Type   Process name                             Usage      |\n",
      "|=============================================================================|\n",
      "|    0      2358      G   /usr/lib/xorg/Xorg                            16MiB |\n",
      "|    0      2528      G   /usr/bin/gnome-shell                           8MiB |\n",
      "|    0      7144      C   ...rek/miniconda3/envs/iddl_env/bin/python   643MiB |\n",
      "|    0      7798      G   /usr/lib/xorg/Xorg                           132MiB |\n",
      "|    0      7968      G   /usr/bin/gnome-shell                         109MiB |\n",
      "|    0     13142      G   /opt/teamviewer/tv_bin/TeamViewer              7MiB |\n",
      "+-----------------------------------------------------------------------------+\n",
      "CUDA memory allocated: 0.00MB\n",
      "CUDA memory cached: 288.00MB\n"
     ]
    }
   ],
   "source": [
    "!nvidia-smi\n",
    "print('CUDA memory allocated: {:.2f}MB'.format(torch.cuda.memory_allocated() / 2**20))\n",
    "print('CUDA memory cached: {:.2f}MB'.format(torch.cuda.memory_cached() / 2**20))"
   ]
  },
  {
   "cell_type": "code",
   "execution_count": 5,
   "metadata": {},
   "outputs": [],
   "source": [
    "torch.cuda.empty_cache()"
   ]
  },
  {
   "cell_type": "code",
   "execution_count": 6,
   "metadata": {},
   "outputs": [
    {
     "name": "stdout",
     "output_type": "stream",
     "text": [
      "Tue May 12 10:36:08 2020       \n",
      "+-----------------------------------------------------------------------------+\n",
      "| NVIDIA-SMI 440.33.01    Driver Version: 440.33.01    CUDA Version: 10.2     |\n",
      "|-------------------------------+----------------------+----------------------+\n",
      "| GPU  Name        Persistence-M| Bus-Id        Disp.A | Volatile Uncorr. ECC |\n",
      "| Fan  Temp  Perf  Pwr:Usage/Cap|         Memory-Usage | GPU-Util  Compute M. |\n",
      "|===============================+======================+======================|\n",
      "|   0  GeForce GTX 970     On   | 00000000:04:00.0  On |                  N/A |\n",
      "| 28%   40C    P2    41W / 151W |    648MiB /  4037MiB |     13%      Default |\n",
      "+-------------------------------+----------------------+----------------------+\n",
      "                                                                               \n",
      "+-----------------------------------------------------------------------------+\n",
      "| Processes:                                                       GPU Memory |\n",
      "|  GPU       PID   Type   Process name                             Usage      |\n",
      "|=============================================================================|\n",
      "|    0      2358      G   /usr/lib/xorg/Xorg                            16MiB |\n",
      "|    0      2528      G   /usr/bin/gnome-shell                           8MiB |\n",
      "|    0      7144      C   ...rek/miniconda3/envs/iddl_env/bin/python   355MiB |\n",
      "|    0      7798      G   /usr/lib/xorg/Xorg                           132MiB |\n",
      "|    0      7968      G   /usr/bin/gnome-shell                         109MiB |\n",
      "|    0     13142      G   /opt/teamviewer/tv_bin/TeamViewer              7MiB |\n",
      "+-----------------------------------------------------------------------------+\n",
      "CUDA memory allocated: 0.00MB\n",
      "CUDA memory cached: 0.00MB\n"
     ]
    }
   ],
   "source": [
    "!nvidia-smi\n",
    "print('CUDA memory allocated: {:.2f}MB'.format(torch.cuda.memory_allocated() / 2**20))\n",
    "print('CUDA memory cached: {:.2f}MB'.format(torch.cuda.memory_cached() / 2**20))"
   ]
  },
  {
   "cell_type": "code",
   "execution_count": 7,
   "metadata": {},
   "outputs": [
    {
     "data": {
      "text/plain": [
       "110"
      ]
     },
     "execution_count": 7,
     "metadata": {},
     "output_type": "execute_result"
    }
   ],
   "source": [
    "import gc\n",
    "gc.collect()"
   ]
  },
  {
   "cell_type": "code",
   "execution_count": 8,
   "metadata": {},
   "outputs": [
    {
     "name": "stdout",
     "output_type": "stream",
     "text": [
      "Tue May 12 10:36:09 2020       \n",
      "+-----------------------------------------------------------------------------+\n",
      "| NVIDIA-SMI 440.33.01    Driver Version: 440.33.01    CUDA Version: 10.2     |\n",
      "|-------------------------------+----------------------+----------------------+\n",
      "| GPU  Name        Persistence-M| Bus-Id        Disp.A | Volatile Uncorr. ECC |\n",
      "| Fan  Temp  Perf  Pwr:Usage/Cap|         Memory-Usage | GPU-Util  Compute M. |\n",
      "|===============================+======================+======================|\n",
      "|   0  GeForce GTX 970     On   | 00000000:04:00.0  On |                  N/A |\n",
      "| 28%   40C    P2    40W / 151W |    648MiB /  4037MiB |      0%      Default |\n",
      "+-------------------------------+----------------------+----------------------+\n",
      "                                                                               \n",
      "+-----------------------------------------------------------------------------+\n",
      "| Processes:                                                       GPU Memory |\n",
      "|  GPU       PID   Type   Process name                             Usage      |\n",
      "|=============================================================================|\n",
      "|    0      2358      G   /usr/lib/xorg/Xorg                            16MiB |\n",
      "|    0      2528      G   /usr/bin/gnome-shell                           8MiB |\n",
      "|    0      7144      C   ...rek/miniconda3/envs/iddl_env/bin/python   355MiB |\n",
      "|    0      7798      G   /usr/lib/xorg/Xorg                           132MiB |\n",
      "|    0      7968      G   /usr/bin/gnome-shell                         109MiB |\n",
      "|    0     13142      G   /opt/teamviewer/tv_bin/TeamViewer              7MiB |\n",
      "+-----------------------------------------------------------------------------+\n"
     ]
    }
   ],
   "source": [
    "!nvidia-smi"
   ]
  },
  {
   "cell_type": "code",
   "execution_count": null,
   "metadata": {},
   "outputs": [],
   "source": []
  }
 ],
 "metadata": {
  "kernelspec": {
   "display_name": "Python 3",
   "language": "python",
   "name": "python3"
  },
  "language_info": {
   "codemirror_mode": {
    "name": "ipython",
    "version": 3
   },
   "file_extension": ".py",
   "mimetype": "text/x-python",
   "name": "python",
   "nbconvert_exporter": "python",
   "pygments_lexer": "ipython3",
   "version": "3.7.5"
  }
 },
 "nbformat": 4,
 "nbformat_minor": 4
}
