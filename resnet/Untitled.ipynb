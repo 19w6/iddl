{
 "cells": [
  {
   "cell_type": "markdown",
   "metadata": {},
   "source": [
    "### Last Week Output\n",
    "\n",
    "|Model|Training Time(ms)|Inference Time(ms)|\n",
    "|:---:|:---:|:---:|\n",
    "|Resnet|28641.0|2071.72|\n",
    "|BIBD|28843.5|2116.1|\n",
    "|GC|21508.0|1499.85|\n",
    "|BIBD & GC|23497.5|1757.6|\n",
    "\n",
    "|Model|Exit 1 Inference Time(ms)| Exit 2 Inference Time(ms)|\n",
    "|:---:|:---:|:---:|\n",
    "|EE|706.75|707.37|\n",
    "|EE_BIBD|744.515|745.535|\n",
    "|GC_EE|904.4$^\\ast$|905.3$^\\ast$|\n",
    "|BIBD_GC_EE|1266$^\\ast$|1267$^\\ast$|\n",
    "\n",
    "*Note:* $\\ast$ means the experiment still running, so it is not the final version."
   ]
  },
  {
   "cell_type": "code",
   "execution_count": null,
   "metadata": {},
   "outputs": [],
   "source": []
  }
 ],
 "metadata": {
  "kernelspec": {
   "display_name": "Python 3",
   "language": "python",
   "name": "python3"
  },
  "language_info": {
   "codemirror_mode": {
    "name": "ipython",
    "version": 3
   },
   "file_extension": ".py",
   "mimetype": "text/x-python",
   "name": "python",
   "nbconvert_exporter": "python",
   "pygments_lexer": "ipython3",
   "version": "3.6.6"
  }
 },
 "nbformat": 4,
 "nbformat_minor": 4
}
