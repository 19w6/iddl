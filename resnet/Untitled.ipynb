{
 "cells": [
  {
   "cell_type": "markdown",
   "metadata": {},
   "source": [
    "#### Jingye Wang\n",
    "\n",
    "#### 05.02\n",
    "\n",
    "### Last Week Output\n",
    "\n",
    "We redesigned the part of time recording. However, due to the experiment of `Inference Time` *vs* `Group Numbers`, we had no time to run this part so far. To deliver the `Inference Time` *vs* `Group Numbers` graph, we integrated `BIBD` and `Group Convolution` with ResNet-34. After that, we recorded the related results and the figure is shown as follows.\n",
    "\n",
    "![test](figures/InferenceTime_vs_GroupNumber.png) \n",
    "\n",
    "**Figure 1.1** The result shows that in general the increasing of the group number may entail slightly more time to inference. It is somewhat surprising that the inference time of ResNet-34 at group number 0 is abnormally high. A further check (debug) is necessary.\n",
    "\n",
    "Corresponding accuracy and loss are also available, as shown in the following figure.\n",
    "\n",
    "![acc_loss](figures/Final_Accuracy_Loss_ResNet18_ResNet34_GC.png)\n",
    "\n",
    "**Figure 1.2** The performance on accuracy and loss of the two model with different group settings. "
   ]
  },
  {
   "cell_type": "code",
   "execution_count": null,
   "metadata": {},
   "outputs": [],
   "source": []
  }
 ],
 "metadata": {
  "kernelspec": {
   "display_name": "Python 3",
   "language": "python",
   "name": "python3"
  },
  "language_info": {
   "codemirror_mode": {
    "name": "ipython",
    "version": 3
   },
   "file_extension": ".py",
   "mimetype": "text/x-python",
   "name": "python",
   "nbconvert_exporter": "python",
   "pygments_lexer": "ipython3",
   "version": "3.6.6"
  }
 },
 "nbformat": 4,
 "nbformat_minor": 4
}
