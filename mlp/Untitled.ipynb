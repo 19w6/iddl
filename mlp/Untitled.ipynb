{
 "cells": [
  {
   "cell_type": "code",
   "execution_count": 5,
   "metadata": {},
   "outputs": [
    {
     "name": "stdout",
     "output_type": "stream",
     "text": [
      "0.9999999999998948\n",
      "1.0000000000000004\n",
      "180001.0\n",
      "1.0000000000000004\n"
     ]
    }
   ],
   "source": [
    "import numpy as np\n",
    "\n",
    "\n",
    "n = 60000\n",
    "weight_array = np.repeat(1/n, n)\n",
    "total = 0.0\n",
    "for weight in weight_array:\n",
    "    total += weight\n",
    "print(total)\n",
    "print(weight_array.sum())\n",
    "weight_array += 3.0\n",
    "print(weight_array.sum())\n",
    "weight_array /= weight_array.sum()\n",
    "print(weight_array.sum(0))"
   ]
  },
  {
   "cell_type": "code",
   "execution_count": null,
   "metadata": {},
   "outputs": [],
   "source": []
  }
 ],
 "metadata": {
  "kernelspec": {
   "display_name": "Python 3",
   "language": "python",
   "name": "python3"
  },
  "language_info": {
   "codemirror_mode": {
    "name": "ipython",
    "version": 3
   },
   "file_extension": ".py",
   "mimetype": "text/x-python",
   "name": "python",
   "nbconvert_exporter": "python",
   "pygments_lexer": "ipython3",
   "version": "3.7.5"
  }
 },
 "nbformat": 4,
 "nbformat_minor": 4
}
