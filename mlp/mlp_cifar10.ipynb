{
 "cells": [
  {
   "cell_type": "code",
   "execution_count": 1,
   "metadata": {},
   "outputs": [],
   "source": [
    "# For inline plotting\n",
    "%matplotlib inline\n",
    "\n",
    "# For auto reloading\n",
    "%load_ext autoreload\n",
    "%autoreload 2"
   ]
  },
  {
   "cell_type": "markdown",
   "metadata": {},
   "source": [
    "# CIFAR10 dataset with MLP\n",
    "\n",
    "[reference](https://github.com/CSCfi/machine-learning-scripts/blob/master/notebooks/pytorch-mnist-mlp.ipynb)"
   ]
  },
  {
   "cell_type": "code",
   "execution_count": 2,
   "metadata": {},
   "outputs": [
    {
     "name": "stdout",
     "output_type": "stream",
     "text": [
      "Using PyTorch version: 1.3.1  Device: cuda\n"
     ]
    }
   ],
   "source": [
    "import torch\n",
    "import torch.nn as nn\n",
    "import torch.nn.functional as F\n",
    "from torchvision import datasets, transforms\n",
    "\n",
    "import numpy as np\n",
    "import matplotlib.pyplot as plt\n",
    "\n",
    "if torch.cuda.is_available():\n",
    "    device = torch.device('cuda')\n",
    "else:\n",
    "    device = torch.device('cpu')\n",
    "    \n",
    "print('Using PyTorch version:', torch.__version__, ' Device:', device)"
   ]
  },
  {
   "cell_type": "markdown",
   "metadata": {},
   "source": [
    "## Data\n",
    "\n",
    "Next we'll load the CIFAR10 data. First time we may have to download the data, which can take a while.\n",
    "\n",
    "Note that we are here using the MNIST test data for *validation*, instead of for testing the final model."
   ]
  },
  {
   "cell_type": "code",
   "execution_count": 3,
   "metadata": {},
   "outputs": [
    {
     "name": "stdout",
     "output_type": "stream",
     "text": [
      "Files already downloaded and verified\n"
     ]
    }
   ],
   "source": [
    "batch_size = 32\n",
    "\n",
    "train_dataset = datasets.CIFAR10('./data', \n",
    "                               train=True, \n",
    "                               download=True, \n",
    "                               transform=transforms.ToTensor())\n",
    "\n",
    "validation_dataset = datasets.CIFAR10('./data', \n",
    "                                    train=False, \n",
    "                                    transform=transforms.ToTensor())\n",
    "\n",
    "train_loader = torch.utils.data.DataLoader(dataset=train_dataset, \n",
    "                                           batch_size=batch_size, \n",
    "                                           shuffle=True)\n",
    "\n",
    "validation_loader = torch.utils.data.DataLoader(dataset=validation_dataset, \n",
    "                                                batch_size=batch_size, \n",
    "                                                shuffle=False)"
   ]
  },
  {
   "cell_type": "markdown",
   "metadata": {},
   "source": [
    "The train and test data are provided via data loaders that provide iterators over the datasets. The first element of training data (`X_train`) is a 4th-order tensor of size (`batch_size`, 3, 32, 32), i.e. it consists of a batch of images of size $3 \\times 32 \\times 32$ pixels. `y_train` is a vector containing the correct classes (\"0\", \"1\", ..., \"9\") for each training digit."
   ]
  },
  {
   "cell_type": "code",
   "execution_count": 4,
   "metadata": {},
   "outputs": [
    {
     "name": "stdout",
     "output_type": "stream",
     "text": [
      "X_train: torch.Size([32, 3, 32, 32]) type: torch.FloatTensor\n",
      "y_train: torch.Size([32]) type: torch.LongTensor\n"
     ]
    }
   ],
   "source": [
    "for (X_train, y_train) in train_loader:\n",
    "    print('X_train:', X_train.size(), 'type:', X_train.type())\n",
    "    print('y_train:', y_train.size(), 'type:', y_train.type())\n",
    "    break"
   ]
  },
  {
   "cell_type": "markdown",
   "metadata": {},
   "source": [
    "Here are the first 10 training digits:"
   ]
  },
  {
   "cell_type": "code",
   "execution_count": 7,
   "metadata": {},
   "outputs": [
    {
     "ename": "ValueError",
     "evalue": "cannot reshape array of size 3072 into shape (32,32)",
     "output_type": "error",
     "traceback": [
      "\u001b[0;31m---------------------------------------------------------------------------\u001b[0m",
      "\u001b[0;31mValueError\u001b[0m                                Traceback (most recent call last)",
      "\u001b[0;32m<ipython-input-7-62b29e1ef355>\u001b[0m in \u001b[0;36m<module>\u001b[0;34m\u001b[0m\n\u001b[1;32m      5\u001b[0m     \u001b[0mplt\u001b[0m\u001b[0;34m.\u001b[0m\u001b[0msubplot\u001b[0m\u001b[0;34m(\u001b[0m\u001b[0;36m1\u001b[0m\u001b[0;34m,\u001b[0m \u001b[0;36m10\u001b[0m\u001b[0;34m,\u001b[0m \u001b[0mi\u001b[0m \u001b[0;34m+\u001b[0m \u001b[0;36m1\u001b[0m\u001b[0;34m)\u001b[0m\u001b[0;34m\u001b[0m\u001b[0;34m\u001b[0m\u001b[0m\n\u001b[1;32m      6\u001b[0m     \u001b[0mplt\u001b[0m\u001b[0;34m.\u001b[0m\u001b[0maxis\u001b[0m\u001b[0;34m(\u001b[0m\u001b[0;34m'off'\u001b[0m\u001b[0;34m)\u001b[0m\u001b[0;34m\u001b[0m\u001b[0;34m\u001b[0m\u001b[0m\n\u001b[0;32m----> 7\u001b[0;31m     \u001b[0mplt\u001b[0m\u001b[0;34m.\u001b[0m\u001b[0mimshow\u001b[0m\u001b[0;34m(\u001b[0m\u001b[0mX_train\u001b[0m\u001b[0;34m[\u001b[0m\u001b[0mi\u001b[0m\u001b[0;34m,\u001b[0m\u001b[0;34m:\u001b[0m\u001b[0;34m,\u001b[0m\u001b[0;34m:\u001b[0m\u001b[0;34m,\u001b[0m\u001b[0;34m:\u001b[0m\u001b[0;34m]\u001b[0m\u001b[0;34m.\u001b[0m\u001b[0mnumpy\u001b[0m\u001b[0;34m(\u001b[0m\u001b[0;34m)\u001b[0m\u001b[0;34m.\u001b[0m\u001b[0mreshape\u001b[0m\u001b[0;34m(\u001b[0m\u001b[0;36m32\u001b[0m\u001b[0;34m,\u001b[0m \u001b[0;36m32\u001b[0m\u001b[0;34m)\u001b[0m\u001b[0;34m,\u001b[0m \u001b[0mcmap\u001b[0m\u001b[0;34m=\u001b[0m\u001b[0;34m\"gray_r\"\u001b[0m\u001b[0;34m)\u001b[0m\u001b[0;34m\u001b[0m\u001b[0;34m\u001b[0m\u001b[0m\n\u001b[0m\u001b[1;32m      8\u001b[0m     \u001b[0mplt\u001b[0m\u001b[0;34m.\u001b[0m\u001b[0mtitle\u001b[0m\u001b[0;34m(\u001b[0m\u001b[0;34m'Class: {}'\u001b[0m\u001b[0;34m.\u001b[0m\u001b[0mformat\u001b[0m\u001b[0;34m(\u001b[0m\u001b[0my_train\u001b[0m\u001b[0;34m[\u001b[0m\u001b[0mi\u001b[0m\u001b[0;34m]\u001b[0m\u001b[0;34m.\u001b[0m\u001b[0mitem\u001b[0m\u001b[0;34m(\u001b[0m\u001b[0;34m)\u001b[0m\u001b[0;34m)\u001b[0m\u001b[0;34m)\u001b[0m\u001b[0;34m\u001b[0m\u001b[0;34m\u001b[0m\u001b[0m\n",
      "\u001b[0;31mValueError\u001b[0m: cannot reshape array of size 3072 into shape (32,32)"
     ]
    },
    {
     "data": {
      "image/png": "[encoded data removed]",
      "text/plain": [
       "<Figure size 1080x108 with 1 Axes>"
      ]
     },
     "metadata": {
      "needs_background": "light"
     },
     "output_type": "display_data"
    }
   ],
   "source": [
    "pltsize = 1.5\n",
    "plt.figure(figsize=(10*pltsize, pltsize))\n",
    "\n",
    "for i in range(10):\n",
    "    plt.subplot(1, 10, i + 1)\n",
    "    plt.axis('off')\n",
    "    plt.imshow(X_train[i,:,:,:].numpy().reshape(32, 32), cmap=\"gray_r\")\n",
    "    plt.title('Class: {}'.format(y_train[i].item()))"
   ]
  },
  {
   "cell_type": "markdown",
   "metadata": {},
   "source": [
    "## MLP network definition\n",
    "\n",
    "Let's define the network as a Python class.  We have to write the `__init__()` and `forward()` methods, and PyTorch will automatically generate a `backward()` method for computing the gradients for the backward pass.\n",
    "\n",
    "Finally, we define an optimizer to update the model parameters based on the computed gradients.  We select *stochastic gradient descent (with momentum)* as the optimization algorithm, and set *learning rate* to 0.01.  Note that there are [several different options](http://pytorch.org/docs/optim.html#algorithms) for the optimizer in PyTorch that we could use instead of *SGD*."
   ]
  },
  {
   "cell_type": "code",
   "execution_count": 8,
   "metadata": {},
   "outputs": [
    {
     "name": "stdout",
     "output_type": "stream",
     "text": [
      "Net(\n",
      "  (fc1): Linear(in_features=3072, out_features=50, bias=True)\n",
      "  (fc1_drop): Dropout(p=0.2, inplace=False)\n",
      "  (fc2): Linear(in_features=50, out_features=50, bias=True)\n",
      "  (fc2_drop): Dropout(p=0.2, inplace=False)\n",
      "  (fc3): Linear(in_features=50, out_features=10, bias=True)\n",
      ")\n"
     ]
    }
   ],
   "source": [
    "class Net(nn.Module):\n",
    "    def __init__(self):\n",
    "        super(Net, self).__init__()\n",
    "        self.fc1 = nn.Linear(3*32*32, 50)\n",
    "        self.fc1_drop = nn.Dropout(0.2)\n",
    "        self.fc2 = nn.Linear(50, 50)\n",
    "        self.fc2_drop = nn.Dropout(0.2)\n",
    "        self.fc3 = nn.Linear(50, 10)\n",
    "\n",
    "    def forward(self, x):\n",
    "        x = x.view(-1, 3*32*32)\n",
    "        x = F.relu(self.fc1(x))\n",
    "        x = self.fc1_drop(x)\n",
    "        x = F.relu(self.fc2(x))\n",
    "        x = self.fc2_drop(x)\n",
    "        return F.log_softmax(self.fc3(x), dim=1)\n",
    "\n",
    "model = Net().to(device)\n",
    "optimizer = torch.optim.SGD(model.parameters(), lr=0.01, momentum=0.5)\n",
    "criterion = nn.CrossEntropyLoss()\n",
    "\n",
    "print(model)"
   ]
  },
  {
   "cell_type": "markdown",
   "metadata": {},
   "source": [
    "## Learning\n",
    "\n",
    "Let's now define functions to `train()` and `validate()` the model. "
   ]
  },
  {
   "cell_type": "code",
   "execution_count": 9,
   "metadata": {},
   "outputs": [],
   "source": [
    "def train(epoch, log_interval=200):\n",
    "    # Set model to training mode\n",
    "    model.train()\n",
    "    \n",
    "    # Loop over each batch from the training set\n",
    "    for batch_idx, (data, target) in enumerate(train_loader):\n",
    "        # Copy data to GPU if needed\n",
    "        data = data.to(device)\n",
    "        target = target.to(device)\n",
    "\n",
    "        # Zero gradient buffers\n",
    "        optimizer.zero_grad() \n",
    "        \n",
    "        # Pass data through the network\n",
    "        output = model(data)\n",
    "\n",
    "        # Calculate loss\n",
    "        loss = criterion(output, target)\n",
    "\n",
    "        # Backpropagate\n",
    "        loss.backward()\n",
    "        \n",
    "        # Update weights\n",
    "        optimizer.step()\n",
    "        \n",
    "        if batch_idx % log_interval == 0:\n",
    "            print('Train Epoch: {} [{}/{} ({:.0f}%)]\\tLoss: {:.6f}'.format(\n",
    "                epoch, batch_idx * len(data), len(train_loader.dataset),\n",
    "                100. * batch_idx / len(train_loader), loss.data.item()))"
   ]
  },
  {
   "cell_type": "code",
   "execution_count": 10,
   "metadata": {},
   "outputs": [],
   "source": [
    "def validate(loss_vector, accuracy_vector):\n",
    "    model.eval()\n",
    "    val_loss, correct = 0, 0\n",
    "    for data, target in validation_loader:\n",
    "        data = data.to(device)\n",
    "        target = target.to(device)\n",
    "        output = model(data)\n",
    "        val_loss += criterion(output, target).data.item()\n",
    "        pred = output.data.max(1)[1] # get the index of the max log-probability\n",
    "        correct += pred.eq(target.data).cpu().sum()\n",
    "\n",
    "    val_loss /= len(validation_loader)\n",
    "    loss_vector.append(val_loss)\n",
    "\n",
    "    accuracy = 100. * correct.to(torch.float32) / len(validation_loader.dataset)\n",
    "    accuracy_vector.append(accuracy)\n",
    "    \n",
    "    print('\\nValidation set: Average loss: {:.4f}, Accuracy: {}/{} ({:.0f}%)\\n'.format(\n",
    "        val_loss, correct, len(validation_loader.dataset), accuracy))"
   ]
  },
  {
   "cell_type": "markdown",
   "metadata": {},
   "source": [
    "Now we are ready to train our model using the `train()` function.  An *epoch* means one pass through the whole training data. After each epoch, we evaluate the model using `validate()`. "
   ]
  },
  {
   "cell_type": "code",
   "execution_count": 11,
   "metadata": {},
   "outputs": [
    {
     "name": "stdout",
     "output_type": "stream",
     "text": [
      "Train Epoch: 1 [0/50000 (0%)]\tLoss: 2.289158\n",
      "Train Epoch: 1 [6400/50000 (13%)]\tLoss: 2.190430\n",
      "Train Epoch: 1 [12800/50000 (26%)]\tLoss: 2.154400\n",
      "Train Epoch: 1 [19200/50000 (38%)]\tLoss: 2.073287\n",
      "Train Epoch: 1 [25600/50000 (51%)]\tLoss: 2.025403\n",
      "Train Epoch: 1 [32000/50000 (64%)]\tLoss: 2.044474\n",
      "Train Epoch: 1 [38400/50000 (77%)]\tLoss: 1.854924\n",
      "Train Epoch: 1 [44800/50000 (90%)]\tLoss: 1.913392\n",
      "\n",
      "Validation set: Average loss: 1.8246, Accuracy: 3370/10000 (34%)\n",
      "\n",
      "Train Epoch: 2 [0/50000 (0%)]\tLoss: 1.958737\n",
      "Train Epoch: 2 [6400/50000 (13%)]\tLoss: 1.843382\n",
      "Train Epoch: 2 [12800/50000 (26%)]\tLoss: 1.908837\n",
      "Train Epoch: 2 [19200/50000 (38%)]\tLoss: 1.565581\n",
      "Train Epoch: 2 [25600/50000 (51%)]\tLoss: 1.711800\n",
      "Train Epoch: 2 [32000/50000 (64%)]\tLoss: 1.968385\n",
      "Train Epoch: 2 [38400/50000 (77%)]\tLoss: 1.798753\n",
      "Train Epoch: 2 [44800/50000 (90%)]\tLoss: 1.682660\n",
      "\n",
      "Validation set: Average loss: 1.7603, Accuracy: 3613/10000 (36%)\n",
      "\n",
      "Train Epoch: 3 [0/50000 (0%)]\tLoss: 2.119365\n",
      "Train Epoch: 3 [6400/50000 (13%)]\tLoss: 1.831064\n",
      "Train Epoch: 3 [12800/50000 (26%)]\tLoss: 1.942440\n",
      "Train Epoch: 3 [19200/50000 (38%)]\tLoss: 1.786280\n",
      "Train Epoch: 3 [25600/50000 (51%)]\tLoss: 1.568962\n",
      "Train Epoch: 3 [32000/50000 (64%)]\tLoss: 1.774418\n",
      "Train Epoch: 3 [38400/50000 (77%)]\tLoss: 1.813000\n",
      "Train Epoch: 3 [44800/50000 (90%)]\tLoss: 1.680295\n",
      "\n",
      "Validation set: Average loss: 1.7103, Accuracy: 3909/10000 (39%)\n",
      "\n",
      "Train Epoch: 4 [0/50000 (0%)]\tLoss: 2.250666\n",
      "Train Epoch: 4 [6400/50000 (13%)]\tLoss: 1.807956\n",
      "Train Epoch: 4 [12800/50000 (26%)]\tLoss: 1.547047\n",
      "Train Epoch: 4 [19200/50000 (38%)]\tLoss: 1.667530\n",
      "Train Epoch: 4 [25600/50000 (51%)]\tLoss: 1.567263\n",
      "Train Epoch: 4 [32000/50000 (64%)]\tLoss: 1.816765\n",
      "Train Epoch: 4 [38400/50000 (77%)]\tLoss: 1.786457\n",
      "Train Epoch: 4 [44800/50000 (90%)]\tLoss: 1.320532\n",
      "\n",
      "Validation set: Average loss: 1.6949, Accuracy: 3995/10000 (40%)\n",
      "\n",
      "Train Epoch: 5 [0/50000 (0%)]\tLoss: 1.934712\n",
      "Train Epoch: 5 [6400/50000 (13%)]\tLoss: 1.729711\n",
      "Train Epoch: 5 [12800/50000 (26%)]\tLoss: 1.698935\n",
      "Train Epoch: 5 [19200/50000 (38%)]\tLoss: 1.693267\n",
      "Train Epoch: 5 [25600/50000 (51%)]\tLoss: 1.904931\n",
      "Train Epoch: 5 [32000/50000 (64%)]\tLoss: 1.530289\n",
      "Train Epoch: 5 [38400/50000 (77%)]\tLoss: 1.763472\n",
      "Train Epoch: 5 [44800/50000 (90%)]\tLoss: 1.760317\n",
      "\n",
      "Validation set: Average loss: 1.6241, Accuracy: 4220/10000 (42%)\n",
      "\n",
      "Train Epoch: 6 [0/50000 (0%)]\tLoss: 1.797762\n",
      "Train Epoch: 6 [6400/50000 (13%)]\tLoss: 1.941353\n",
      "Train Epoch: 6 [12800/50000 (26%)]\tLoss: 1.878380\n",
      "Train Epoch: 6 [19200/50000 (38%)]\tLoss: 1.918005\n",
      "Train Epoch: 6 [25600/50000 (51%)]\tLoss: 1.597706\n",
      "Train Epoch: 6 [32000/50000 (64%)]\tLoss: 1.827853\n",
      "Train Epoch: 6 [38400/50000 (77%)]\tLoss: 1.891690\n",
      "Train Epoch: 6 [44800/50000 (90%)]\tLoss: 1.820080\n",
      "\n",
      "Validation set: Average loss: 1.6223, Accuracy: 4277/10000 (43%)\n",
      "\n",
      "Train Epoch: 7 [0/50000 (0%)]\tLoss: 1.627094\n",
      "Train Epoch: 7 [6400/50000 (13%)]\tLoss: 1.785355\n",
      "Train Epoch: 7 [12800/50000 (26%)]\tLoss: 1.706474\n",
      "Train Epoch: 7 [19200/50000 (38%)]\tLoss: 1.434754\n",
      "Train Epoch: 7 [25600/50000 (51%)]\tLoss: 1.351774\n",
      "Train Epoch: 7 [32000/50000 (64%)]\tLoss: 1.753825\n",
      "Train Epoch: 7 [38400/50000 (77%)]\tLoss: 1.809599\n",
      "Train Epoch: 7 [44800/50000 (90%)]\tLoss: 1.330725\n",
      "\n",
      "Validation set: Average loss: 1.5881, Accuracy: 4367/10000 (44%)\n",
      "\n",
      "Train Epoch: 8 [0/50000 (0%)]\tLoss: 1.594074\n",
      "Train Epoch: 8 [6400/50000 (13%)]\tLoss: 1.760145\n",
      "Train Epoch: 8 [12800/50000 (26%)]\tLoss: 1.695663\n",
      "Train Epoch: 8 [19200/50000 (38%)]\tLoss: 1.826593\n",
      "Train Epoch: 8 [25600/50000 (51%)]\tLoss: 1.697935\n",
      "Train Epoch: 8 [32000/50000 (64%)]\tLoss: 1.529731\n",
      "Train Epoch: 8 [38400/50000 (77%)]\tLoss: 1.730194\n",
      "Train Epoch: 8 [44800/50000 (90%)]\tLoss: 1.518114\n",
      "\n",
      "Validation set: Average loss: 1.5798, Accuracy: 4337/10000 (43%)\n",
      "\n",
      "Train Epoch: 9 [0/50000 (0%)]\tLoss: 1.427208\n",
      "Train Epoch: 9 [6400/50000 (13%)]\tLoss: 1.812081\n",
      "Train Epoch: 9 [12800/50000 (26%)]\tLoss: 1.543544\n",
      "Train Epoch: 9 [19200/50000 (38%)]\tLoss: 1.781721\n",
      "Train Epoch: 9 [25600/50000 (51%)]\tLoss: 2.014673\n",
      "Train Epoch: 9 [32000/50000 (64%)]\tLoss: 1.725944\n",
      "Train Epoch: 9 [38400/50000 (77%)]\tLoss: 1.512600\n",
      "Train Epoch: 9 [44800/50000 (90%)]\tLoss: 1.925919\n",
      "\n",
      "Validation set: Average loss: 1.5460, Accuracy: 4532/10000 (45%)\n",
      "\n",
      "Train Epoch: 10 [0/50000 (0%)]\tLoss: 1.774088\n",
      "Train Epoch: 10 [6400/50000 (13%)]\tLoss: 1.732676\n",
      "Train Epoch: 10 [12800/50000 (26%)]\tLoss: 1.640532\n",
      "Train Epoch: 10 [19200/50000 (38%)]\tLoss: 1.671622\n",
      "Train Epoch: 10 [25600/50000 (51%)]\tLoss: 2.018211\n",
      "Train Epoch: 10 [32000/50000 (64%)]\tLoss: 1.714434\n",
      "Train Epoch: 10 [38400/50000 (77%)]\tLoss: 1.630979\n",
      "Train Epoch: 10 [44800/50000 (90%)]\tLoss: 1.738598\n",
      "\n",
      "Validation set: Average loss: 1.5326, Accuracy: 4604/10000 (46%)\n",
      "\n",
      "CPU times: user 1min 41s, sys: 11.7 s, total: 1min 53s\n",
      "Wall time: 1min 47s\n"
     ]
    }
   ],
   "source": [
    "%%time\n",
    "epochs = 10\n",
    "\n",
    "lossv, accv = [], []\n",
    "for epoch in range(1, epochs + 1):\n",
    "    train(epoch)\n",
    "    validate(lossv, accv)"
   ]
  },
  {
   "cell_type": "code",
   "execution_count": null,
   "metadata": {},
   "outputs": [],
   "source": []
  }
 ],
 "metadata": {
  "kernelspec": {
   "display_name": "Python 3",
   "language": "python",
   "name": "python3"
  },
  "language_info": {
   "codemirror_mode": {
    "name": "ipython",
    "version": 3
   },
   "file_extension": ".py",
   "mimetype": "text/x-python",
   "name": "python",
   "nbconvert_exporter": "python",
   "pygments_lexer": "ipython3",
   "version": "3.7.5"
  }
 },
 "nbformat": 4,
 "nbformat_minor": 4
}
