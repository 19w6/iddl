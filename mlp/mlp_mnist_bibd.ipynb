{
 "cells": [
  {
   "cell_type": "code",
   "execution_count": 1,
   "metadata": {},
   "outputs": [],
   "source": [
    "# For inline plotting\n",
    "%matplotlib inline\n",
    "\n",
    "# For auto reloading\n",
    "%load_ext autoreload\n",
    "%autoreload 2"
   ]
  },
  {
   "cell_type": "markdown",
   "metadata": {},
   "source": [
    "# MNIST dataset with MLP\n",
    "\n",
    "[reference](https://github.com/CSCfi/machine-learning-scripts/blob/master/notebooks/pytorch-mnist-mlp.ipynb)"
   ]
  },
  {
   "cell_type": "code",
   "execution_count": 2,
   "metadata": {},
   "outputs": [
    {
     "name": "stdout",
     "output_type": "stream",
     "text": [
      "Using PyTorch version: 1.3.1  Device: cuda\n"
     ]
    }
   ],
   "source": [
    "import torch\n",
    "import torch.nn as nn\n",
    "import torch.nn.functional as F\n",
    "from torchvision import datasets, transforms\n",
    "\n",
    "import numpy as np\n",
    "import matplotlib.pyplot as plt\n",
    "\n",
    "if torch.cuda.is_available():\n",
    "    device = torch.device('cuda')\n",
    "else:\n",
    "    device = torch.device('cpu')\n",
    "    \n",
    "print('Using PyTorch version:', torch.__version__, ' Device:', device)"
   ]
  },
  {
   "cell_type": "markdown",
   "metadata": {},
   "source": [
    "## Data\n",
    "\n",
    "Next we'll load the MNIST data. First time we may have to download the data, which can take a while.\n",
    "\n",
    "Note that we are here using the MNIST test data for *validation*, instead of for testing the final model."
   ]
  },
  {
   "cell_type": "code",
   "execution_count": 3,
   "metadata": {},
   "outputs": [],
   "source": [
    "batch_size = 32\n",
    "\n",
    "train_dataset = datasets.MNIST('./data', \n",
    "                               train=True, \n",
    "                               download=True, \n",
    "                               transform=transforms.ToTensor())\n",
    "\n",
    "validation_dataset = datasets.MNIST('./data', \n",
    "                                    train=False, \n",
    "                                    transform=transforms.ToTensor())\n",
    "\n",
    "train_loader = torch.utils.data.DataLoader(dataset=train_dataset, \n",
    "                                           batch_size=batch_size, \n",
    "                                           shuffle=True)\n",
    "\n",
    "validation_loader = torch.utils.data.DataLoader(dataset=validation_dataset, \n",
    "                                                batch_size=batch_size, \n",
    "                                                shuffle=False)"
   ]
  },
  {
   "cell_type": "markdown",
   "metadata": {},
   "source": [
    "The train and test data are provided via data loaders that provide iterators over the datasets. The first element of training data (`X_train`) is a 4th-order tensor of size (`batch_size`, 1, 28, 28), i.e. it consists of a batch of images of size 1x28x28 pixels. `y_train` is a vector containing the correct classes (\"0\", \"1\", ..., \"9\") for each training digit."
   ]
  },
  {
   "cell_type": "code",
   "execution_count": 4,
   "metadata": {},
   "outputs": [
    {
     "name": "stdout",
     "output_type": "stream",
     "text": [
      "X_train: torch.Size([32, 1, 28, 28]) type: torch.FloatTensor\n",
      "y_train: torch.Size([32]) type: torch.LongTensor\n"
     ]
    }
   ],
   "source": [
    "for (X_train, y_train) in train_loader:\n",
    "    print('X_train:', X_train.size(), 'type:', X_train.type())\n",
    "    print('y_train:', y_train.size(), 'type:', y_train.type())\n",
    "    break"
   ]
  },
  {
   "cell_type": "markdown",
   "metadata": {},
   "source": [
    "Here are the first 10 training digits:"
   ]
  },
  {
   "cell_type": "code",
   "execution_count": 5,
   "metadata": {},
   "outputs": [
    {
     "data": {
      "image/png": "[encoded data removed]",
      "text/plain": [
       "<Figure size 1080x108 with 10 Axes>"
      ]
     },
     "metadata": {
      "needs_background": "light"
     },
     "output_type": "display_data"
    }
   ],
   "source": [
    "pltsize = 1.5\n",
    "plt.figure(figsize=(10*pltsize, pltsize))\n",
    "\n",
    "for i in range(10):\n",
    "    plt.subplot(1, 10, i + 1)\n",
    "    plt.axis('off')\n",
    "    plt.imshow(X_train[i,:,:,:].numpy().reshape(28, 28), cmap=\"gray_r\")\n",
    "    plt.title('Class: {}'.format(y_train[i].item()))"
   ]
  },
  {
   "cell_type": "markdown",
   "metadata": {},
   "source": [
    "## MLP network definition\n",
    "\n",
    "Let's define the network as a Python class.  We have to write the `__init__()` and `forward()` methods, and PyTorch will automatically generate a `backward()` method for computing the gradients for the backward pass.\n",
    "\n",
    "Finally, we define an optimizer to update the model parameters based on the computed gradients.  We select *stochastic gradient descent (with momentum)* as the optimization algorithm, and set *learning rate* to 0.01.  Note that there are [several different options](http://pytorch.org/docs/optim.html#algorithms) for the optimizer in PyTorch that we could use instead of *SGD*."
   ]
  },
  {
   "cell_type": "code",
   "execution_count": 6,
   "metadata": {},
   "outputs": [
    {
     "name": "stdout",
     "output_type": "stream",
     "text": [
      "Net(\n",
      "  (fc1): Linear(in_features=784, out_features=49, bias=True)\n",
      "  (fc1_drop): Dropout(p=0.2, inplace=False)\n",
      "  (bibd2): BibdLinear()\n",
      "  (fc3): Linear(in_features=56, out_features=10, bias=True)\n",
      ")\n"
     ]
    }
   ],
   "source": [
    "import sys\n",
    "sys.path.append('../bibd')\n",
    "from bibd_layer import BibdLinear\n",
    "\n",
    "q = 7\n",
    "\n",
    "class Net(nn.Module):\n",
    "    def __init__(self):\n",
    "        super(Net, self).__init__()\n",
    "        \n",
    "        self.fc1 = nn.Linear(28*28, q*q)\n",
    "        self.fc1_drop = nn.Dropout(0.2)\n",
    "        self.bibd2 = BibdLinear(q*q, q*(q+1), number_of_block=q)\n",
    "        self.fc3 = nn.Linear(q*(q+1), 10)\n",
    "\n",
    "    def forward(self, x):\n",
    "        x = x.view(-1, 28*28)\n",
    "        x = F.relu(self.fc1(x))\n",
    "        x = self.fc1_drop(x)\n",
    "        x = F.relu(self.bibd2(x))\n",
    "        return F.log_softmax(self.fc3(x), dim=1)\n",
    "\n",
    "model = Net().to(device)\n",
    "optimizer = torch.optim.SGD(model.parameters(), lr=0.01, momentum=0.5)\n",
    "criterion = nn.CrossEntropyLoss()\n",
    "\n",
    "print(model)"
   ]
  },
  {
   "cell_type": "markdown",
   "metadata": {},
   "source": [
    "## Learning\n",
    "\n",
    "Let's now define functions to `train()` and `validate()` the model. "
   ]
  },
  {
   "cell_type": "code",
   "execution_count": 7,
   "metadata": {},
   "outputs": [],
   "source": [
    "def train(epoch, log_interval=200):\n",
    "    # Set model to training mode\n",
    "    model.train()\n",
    "    \n",
    "    # Loop over each batch from the training set\n",
    "    for batch_idx, (data, target) in enumerate(train_loader):\n",
    "        # Copy data to GPU if needed\n",
    "        data = data.to(device)\n",
    "        target = target.to(device)\n",
    "\n",
    "        # Zero gradient buffers\n",
    "        optimizer.zero_grad() \n",
    "        \n",
    "        # Pass data through the network\n",
    "        output = model(data)\n",
    "\n",
    "        # Calculate loss\n",
    "        loss = criterion(output, target)\n",
    "\n",
    "        # Backpropagate\n",
    "        loss.backward()\n",
    "        \n",
    "        # Update weights\n",
    "        optimizer.step()\n",
    "        \n",
    "        if batch_idx % log_interval == 0:\n",
    "            print('Train Epoch: {} [{}/{} ({:.0f}%)]\\tLoss: {:.6f}'.format(\n",
    "                epoch, batch_idx * len(data), len(train_loader.dataset),\n",
    "                100. * batch_idx / len(train_loader), loss.data.item()))"
   ]
  },
  {
   "cell_type": "code",
   "execution_count": 8,
   "metadata": {},
   "outputs": [],
   "source": [
    "def validate(loss_vector, accuracy_vector):\n",
    "    model.eval()\n",
    "    val_loss, correct = 0, 0\n",
    "    for data, target in validation_loader:\n",
    "        data = data.to(device)\n",
    "        target = target.to(device)\n",
    "        output = model(data)\n",
    "        val_loss += criterion(output, target).data.item()\n",
    "        pred = output.data.max(1)[1] # get the index of the max log-probability\n",
    "        correct += pred.eq(target.data).cpu().sum()\n",
    "\n",
    "    val_loss /= len(validation_loader)\n",
    "    loss_vector.append(val_loss)\n",
    "\n",
    "    accuracy = 100. * correct.to(torch.float32) / len(validation_loader.dataset)\n",
    "    accuracy_vector.append(accuracy)\n",
    "    \n",
    "    print('\\nValidation set: Average loss: {:.4f}, Accuracy: {}/{} ({:.0f}%)\\n'.format(\n",
    "        val_loss, correct, len(validation_loader.dataset), accuracy))"
   ]
  },
  {
   "cell_type": "markdown",
   "metadata": {},
   "source": [
    "Now we are ready to train our model using the `train()` function.  An *epoch* means one pass through the whole training data. After each epoch, we evaluate the model using `validate()`. "
   ]
  },
  {
   "cell_type": "code",
   "execution_count": 9,
   "metadata": {},
   "outputs": [
    {
     "name": "stdout",
     "output_type": "stream",
     "text": [
      "Train Epoch: 1 [0/60000 (0%)]\tLoss: 2.303854\n",
      "Train Epoch: 1 [6400/60000 (11%)]\tLoss: 2.152394\n",
      "Train Epoch: 1 [12800/60000 (21%)]\tLoss: 1.674864\n",
      "Train Epoch: 1 [19200/60000 (32%)]\tLoss: 1.057678\n",
      "Train Epoch: 1 [25600/60000 (43%)]\tLoss: 0.896833\n",
      "Train Epoch: 1 [32000/60000 (53%)]\tLoss: 0.629717\n",
      "Train Epoch: 1 [38400/60000 (64%)]\tLoss: 0.698743\n",
      "Train Epoch: 1 [44800/60000 (75%)]\tLoss: 0.569789\n",
      "Train Epoch: 1 [51200/60000 (85%)]\tLoss: 0.345635\n",
      "Train Epoch: 1 [57600/60000 (96%)]\tLoss: 0.396329\n",
      "\n",
      "Validation set: Average loss: 0.3766, Accuracy: 8955/10000 (90%)\n",
      "\n",
      "Train Epoch: 2 [0/60000 (0%)]\tLoss: 0.558998\n",
      "Train Epoch: 2 [6400/60000 (11%)]\tLoss: 0.340414\n",
      "Train Epoch: 2 [12800/60000 (21%)]\tLoss: 0.255624\n",
      "Train Epoch: 2 [19200/60000 (32%)]\tLoss: 0.513889\n",
      "Train Epoch: 2 [25600/60000 (43%)]\tLoss: 0.445894\n",
      "Train Epoch: 2 [32000/60000 (53%)]\tLoss: 0.495725\n",
      "Train Epoch: 2 [38400/60000 (64%)]\tLoss: 0.286029\n",
      "Train Epoch: 2 [44800/60000 (75%)]\tLoss: 0.897588\n",
      "Train Epoch: 2 [51200/60000 (85%)]\tLoss: 0.523452\n",
      "Train Epoch: 2 [57600/60000 (96%)]\tLoss: 0.345096\n",
      "\n",
      "Validation set: Average loss: 0.2812, Accuracy: 9213/10000 (92%)\n",
      "\n",
      "Train Epoch: 3 [0/60000 (0%)]\tLoss: 0.445127\n",
      "Train Epoch: 3 [6400/60000 (11%)]\tLoss: 0.430366\n",
      "Train Epoch: 3 [12800/60000 (21%)]\tLoss: 0.236646\n",
      "Train Epoch: 3 [19200/60000 (32%)]\tLoss: 0.112106\n",
      "Train Epoch: 3 [25600/60000 (43%)]\tLoss: 0.520853\n",
      "Train Epoch: 3 [32000/60000 (53%)]\tLoss: 0.180374\n",
      "Train Epoch: 3 [38400/60000 (64%)]\tLoss: 0.286437\n",
      "Train Epoch: 3 [44800/60000 (75%)]\tLoss: 0.234263\n",
      "Train Epoch: 3 [51200/60000 (85%)]\tLoss: 0.261022\n",
      "Train Epoch: 3 [57600/60000 (96%)]\tLoss: 0.124232\n",
      "\n",
      "Validation set: Average loss: 0.2423, Accuracy: 9292/10000 (93%)\n",
      "\n",
      "Train Epoch: 4 [0/60000 (0%)]\tLoss: 0.358735\n",
      "Train Epoch: 4 [6400/60000 (11%)]\tLoss: 0.073213\n",
      "Train Epoch: 4 [12800/60000 (21%)]\tLoss: 0.564088\n",
      "Train Epoch: 4 [19200/60000 (32%)]\tLoss: 0.389858\n",
      "Train Epoch: 4 [25600/60000 (43%)]\tLoss: 0.140818\n",
      "Train Epoch: 4 [32000/60000 (53%)]\tLoss: 0.263115\n",
      "Train Epoch: 4 [38400/60000 (64%)]\tLoss: 0.243867\n",
      "Train Epoch: 4 [44800/60000 (75%)]\tLoss: 0.451744\n",
      "Train Epoch: 4 [51200/60000 (85%)]\tLoss: 0.352502\n",
      "Train Epoch: 4 [57600/60000 (96%)]\tLoss: 0.185917\n",
      "\n",
      "Validation set: Average loss: 0.2135, Accuracy: 9377/10000 (94%)\n",
      "\n",
      "Train Epoch: 5 [0/60000 (0%)]\tLoss: 0.221991\n",
      "Train Epoch: 5 [6400/60000 (11%)]\tLoss: 0.169217\n",
      "Train Epoch: 5 [12800/60000 (21%)]\tLoss: 0.322655\n",
      "Train Epoch: 5 [19200/60000 (32%)]\tLoss: 0.048176\n",
      "Train Epoch: 5 [25600/60000 (43%)]\tLoss: 0.489013\n",
      "Train Epoch: 5 [32000/60000 (53%)]\tLoss: 0.556377\n",
      "Train Epoch: 5 [38400/60000 (64%)]\tLoss: 0.179447\n",
      "Train Epoch: 5 [44800/60000 (75%)]\tLoss: 0.289190\n",
      "Train Epoch: 5 [51200/60000 (85%)]\tLoss: 0.237229\n",
      "Train Epoch: 5 [57600/60000 (96%)]\tLoss: 0.191353\n",
      "\n",
      "Validation set: Average loss: 0.1958, Accuracy: 9413/10000 (94%)\n",
      "\n",
      "Train Epoch: 6 [0/60000 (0%)]\tLoss: 0.372535\n",
      "Train Epoch: 6 [6400/60000 (11%)]\tLoss: 0.467578\n",
      "Train Epoch: 6 [12800/60000 (21%)]\tLoss: 0.165823\n",
      "Train Epoch: 6 [19200/60000 (32%)]\tLoss: 0.517841\n",
      "Train Epoch: 6 [25600/60000 (43%)]\tLoss: 0.261172\n",
      "Train Epoch: 6 [32000/60000 (53%)]\tLoss: 0.316920\n",
      "Train Epoch: 6 [38400/60000 (64%)]\tLoss: 0.222352\n",
      "Train Epoch: 6 [44800/60000 (75%)]\tLoss: 0.067884\n",
      "Train Epoch: 6 [51200/60000 (85%)]\tLoss: 0.419142\n",
      "Train Epoch: 6 [57600/60000 (96%)]\tLoss: 0.331976\n",
      "\n",
      "Validation set: Average loss: 0.1783, Accuracy: 9458/10000 (95%)\n",
      "\n",
      "Train Epoch: 7 [0/60000 (0%)]\tLoss: 0.198326\n",
      "Train Epoch: 7 [6400/60000 (11%)]\tLoss: 0.440526\n",
      "Train Epoch: 7 [12800/60000 (21%)]\tLoss: 0.134218\n",
      "Train Epoch: 7 [19200/60000 (32%)]\tLoss: 0.233262\n",
      "Train Epoch: 7 [25600/60000 (43%)]\tLoss: 0.344962\n",
      "Train Epoch: 7 [32000/60000 (53%)]\tLoss: 0.065949\n",
      "Train Epoch: 7 [38400/60000 (64%)]\tLoss: 0.324440\n",
      "Train Epoch: 7 [44800/60000 (75%)]\tLoss: 0.318040\n",
      "Train Epoch: 7 [51200/60000 (85%)]\tLoss: 0.088742\n",
      "Train Epoch: 7 [57600/60000 (96%)]\tLoss: 0.066172\n",
      "\n",
      "Validation set: Average loss: 0.1678, Accuracy: 9491/10000 (95%)\n",
      "\n",
      "Train Epoch: 8 [0/60000 (0%)]\tLoss: 0.057239\n",
      "Train Epoch: 8 [6400/60000 (11%)]\tLoss: 0.060370\n",
      "Train Epoch: 8 [12800/60000 (21%)]\tLoss: 0.321217\n",
      "Train Epoch: 8 [19200/60000 (32%)]\tLoss: 0.200691\n",
      "Train Epoch: 8 [25600/60000 (43%)]\tLoss: 0.068471\n",
      "Train Epoch: 8 [32000/60000 (53%)]\tLoss: 0.042083\n",
      "Train Epoch: 8 [38400/60000 (64%)]\tLoss: 0.068242\n",
      "Train Epoch: 8 [44800/60000 (75%)]\tLoss: 0.363412\n",
      "Train Epoch: 8 [51200/60000 (85%)]\tLoss: 0.165243\n",
      "Train Epoch: 8 [57600/60000 (96%)]\tLoss: 0.244430\n",
      "\n",
      "Validation set: Average loss: 0.1587, Accuracy: 9505/10000 (95%)\n",
      "\n",
      "Train Epoch: 9 [0/60000 (0%)]\tLoss: 0.361186\n",
      "Train Epoch: 9 [6400/60000 (11%)]\tLoss: 0.163312\n",
      "Train Epoch: 9 [12800/60000 (21%)]\tLoss: 0.116530\n",
      "Train Epoch: 9 [19200/60000 (32%)]\tLoss: 0.467188\n",
      "Train Epoch: 9 [25600/60000 (43%)]\tLoss: 0.094498\n",
      "Train Epoch: 9 [32000/60000 (53%)]\tLoss: 0.101301\n",
      "Train Epoch: 9 [38400/60000 (64%)]\tLoss: 0.102607\n",
      "Train Epoch: 9 [44800/60000 (75%)]\tLoss: 0.428936\n",
      "Train Epoch: 9 [51200/60000 (85%)]\tLoss: 0.227109\n",
      "Train Epoch: 9 [57600/60000 (96%)]\tLoss: 0.261481\n",
      "\n",
      "Validation set: Average loss: 0.1452, Accuracy: 9558/10000 (96%)\n",
      "\n",
      "Train Epoch: 10 [0/60000 (0%)]\tLoss: 0.106935\n",
      "Train Epoch: 10 [6400/60000 (11%)]\tLoss: 0.327110\n",
      "Train Epoch: 10 [12800/60000 (21%)]\tLoss: 0.090054\n",
      "Train Epoch: 10 [19200/60000 (32%)]\tLoss: 0.146871\n",
      "Train Epoch: 10 [25600/60000 (43%)]\tLoss: 0.072977\n",
      "Train Epoch: 10 [32000/60000 (53%)]\tLoss: 0.179618\n",
      "Train Epoch: 10 [38400/60000 (64%)]\tLoss: 0.149566\n",
      "Train Epoch: 10 [44800/60000 (75%)]\tLoss: 0.153254\n",
      "Train Epoch: 10 [51200/60000 (85%)]\tLoss: 0.161053\n",
      "Train Epoch: 10 [57600/60000 (96%)]\tLoss: 0.468707\n",
      "\n",
      "Validation set: Average loss: 0.1393, Accuracy: 9572/10000 (96%)\n",
      "\n",
      "CPU times: user 1min 38s, sys: 13.3 s, total: 1min 52s\n",
      "Wall time: 1min 40s\n"
     ]
    }
   ],
   "source": [
    "%%time\n",
    "epochs = 10\n",
    "\n",
    "lossv, accv = [], []\n",
    "for epoch in range(1, epochs + 1):\n",
    "    train(epoch)\n",
    "    validate(lossv, accv)"
   ]
  },
  {
   "cell_type": "markdown",
   "metadata": {},
   "source": [
    "## Profiling the model"
   ]
  },
  {
   "cell_type": "code",
   "execution_count": 10,
   "metadata": {},
   "outputs": [
    {
     "name": "stdout",
     "output_type": "stream",
     "text": [
      "Register FLOP counter for module Linear(in_features=784, out_features=49, bias=True)\n",
      "Register FLOP counter for module Dropout(p=0.2, inplace=False)\n",
      "Register FLOP counter for module BibdLinear()\n",
      "Register FLOP counter for module Linear(in_features=56, out_features=10, bias=True)\n",
      "Params(M): 0.04, FLOPs(M): 0.08\n"
     ]
    }
   ],
   "source": [
    "from thop import profile\n",
    "import sys\n",
    "sys.path.append('../bibd')\n",
    "from bibd_layer import BibdLinear\n",
    "\n",
    "\n",
    "def count_model(model_to_count, x, y):\n",
    "    total_ops = np.sum(model_to_count.mask.cpu().numpy())\n",
    "\n",
    "    model_to_count.total_ops += torch.Tensor([int(total_ops)])\n",
    "\n",
    "input = torch.randn(1, 28, 28).to(device)\n",
    "flops, params = profile(Net().to(device), inputs=(input, ), custom_ops={BibdLinear: count_model})\n",
    "print('Params(M): %.2f, FLOPs(M): %.2f' % (params / (1000 ** 2), flops / (1000 ** 2)))"
   ]
  }
 ],
 "metadata": {
  "kernelspec": {
   "display_name": "Python 3",
   "language": "python",
   "name": "python3"
  },
  "language_info": {
   "codemirror_mode": {
    "name": "ipython",
    "version": 3
   },
   "file_extension": ".py",
   "mimetype": "text/x-python",
   "name": "python",
   "nbconvert_exporter": "python",
   "pygments_lexer": "ipython3",
   "version": "3.7.5"
  }
 },
 "nbformat": 4,
 "nbformat_minor": 4
}
