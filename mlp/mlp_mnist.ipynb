{
 "cells": [
  {
   "cell_type": "code",
   "execution_count": 1,
   "metadata": {},
   "outputs": [],
   "source": [
    "# For inline plotting\n",
    "%matplotlib inline\n",
    "\n",
    "# For auto reloading\n",
    "%load_ext autoreload\n",
    "%autoreload 2"
   ]
  },
  {
   "cell_type": "markdown",
   "metadata": {},
   "source": [
    "# MNIST dataset with MLP\n",
    "\n",
    "[reference](https://github.com/CSCfi/machine-learning-scripts/blob/master/notebooks/pytorch-mnist-mlp.ipynb)"
   ]
  },
  {
   "cell_type": "code",
   "execution_count": 2,
   "metadata": {},
   "outputs": [
    {
     "name": "stdout",
     "output_type": "stream",
     "text": [
      "Using PyTorch version: 1.3.1  Device: cuda\n"
     ]
    }
   ],
   "source": [
    "import torch\n",
    "import torch.nn as nn\n",
    "import torch.nn.functional as F\n",
    "from torchvision import datasets, transforms\n",
    "\n",
    "import numpy as np\n",
    "import matplotlib.pyplot as plt\n",
    "\n",
    "if torch.cuda.is_available():\n",
    "    device = torch.device('cuda')\n",
    "else:\n",
    "    device = torch.device('cpu')\n",
    "    \n",
    "print('Using PyTorch version:', torch.__version__, ' Device:', device)"
   ]
  },
  {
   "cell_type": "markdown",
   "metadata": {},
   "source": [
    "## Data\n",
    "\n",
    "Next we'll load the MNIST data. First time we may have to download the data, which can take a while.\n",
    "\n",
    "Note that we are here using the MNIST test data for *validation*, instead of for testing the final model."
   ]
  },
  {
   "cell_type": "code",
   "execution_count": 3,
   "metadata": {},
   "outputs": [],
   "source": [
    "batch_size = 32\n",
    "\n",
    "train_dataset = datasets.MNIST('./data', \n",
    "                               train=True, \n",
    "                               download=True, \n",
    "                               transform=transforms.ToTensor())\n",
    "\n",
    "validation_dataset = datasets.MNIST('./data', \n",
    "                                    train=False, \n",
    "                                    transform=transforms.ToTensor())\n",
    "\n",
    "train_loader = torch.utils.data.DataLoader(dataset=train_dataset, \n",
    "                                           batch_size=batch_size, \n",
    "                                           shuffle=True)\n",
    "\n",
    "validation_loader = torch.utils.data.DataLoader(dataset=validation_dataset, \n",
    "                                                batch_size=batch_size, \n",
    "                                                shuffle=False)"
   ]
  },
  {
   "cell_type": "markdown",
   "metadata": {},
   "source": [
    "The train and test data are provided via data loaders that provide iterators over the datasets. The first element of training data (`X_train`) is a 4th-order tensor of size (`batch_size`, 1, 28, 28), i.e. it consists of a batch of images of size 1x28x28 pixels. `y_train` is a vector containing the correct classes (\"0\", \"1\", ..., \"9\") for each training digit."
   ]
  },
  {
   "cell_type": "code",
   "execution_count": 4,
   "metadata": {},
   "outputs": [
    {
     "name": "stdout",
     "output_type": "stream",
     "text": [
      "X_train: torch.Size([32, 1, 28, 28]) type: torch.FloatTensor\n",
      "y_train: torch.Size([32]) type: torch.LongTensor\n"
     ]
    }
   ],
   "source": [
    "for (X_train, y_train) in train_loader:\n",
    "    print('X_train:', X_train.size(), 'type:', X_train.type())\n",
    "    print('y_train:', y_train.size(), 'type:', y_train.type())\n",
    "    break"
   ]
  },
  {
   "cell_type": "markdown",
   "metadata": {},
   "source": [
    "Here are the first 10 training digits:"
   ]
  },
  {
   "cell_type": "code",
   "execution_count": 5,
   "metadata": {},
   "outputs": [
    {
     "data": {
      "image/png": "[encoded data removed]",
      "text/plain": [
       "<Figure size 1080x108 with 10 Axes>"
      ]
     },
     "metadata": {
      "needs_background": "light"
     },
     "output_type": "display_data"
    }
   ],
   "source": [
    "pltsize = 1.5\n",
    "plt.figure(figsize=(10*pltsize, pltsize))\n",
    "\n",
    "for i in range(10):\n",
    "    plt.subplot(1, 10, i + 1)\n",
    "    plt.axis('off')\n",
    "    plt.imshow(X_train[i,:,:,:].numpy().reshape(28, 28), cmap=\"gray_r\")\n",
    "    plt.title('Class: {}'.format(y_train[i].item()))"
   ]
  },
  {
   "cell_type": "markdown",
   "metadata": {},
   "source": [
    "## MLP network definition\n",
    "\n",
    "Let's define the network as a Python class.  We have to write the `__init__()` and `forward()` methods, and PyTorch will automatically generate a `backward()` method for computing the gradients for the backward pass.\n",
    "\n",
    "Finally, we define an optimizer to update the model parameters based on the computed gradients.  We select *stochastic gradient descent (with momentum)* as the optimization algorithm, and set *learning rate* to 0.01.  Note that there are [several different options](http://pytorch.org/docs/optim.html#algorithms) for the optimizer in PyTorch that we could use instead of *SGD*."
   ]
  },
  {
   "cell_type": "code",
   "execution_count": 6,
   "metadata": {},
   "outputs": [
    {
     "name": "stdout",
     "output_type": "stream",
     "text": [
      "Net(\n",
      "  (fc1): Linear(in_features=784, out_features=50, bias=True)\n",
      "  (fc1_drop): Dropout(p=0.2, inplace=False)\n",
      "  (fc2): Linear(in_features=50, out_features=50, bias=True)\n",
      "  (fc2_drop): Dropout(p=0.2, inplace=False)\n",
      "  (fc3): Linear(in_features=50, out_features=10, bias=True)\n",
      ")\n"
     ]
    }
   ],
   "source": [
    "class Net(nn.Module):\n",
    "    def __init__(self):\n",
    "        super(Net, self).__init__()\n",
    "        self.fc1 = nn.Linear(28*28, 50)\n",
    "        self.fc1_drop = nn.Dropout(0.2)\n",
    "        self.fc2 = nn.Linear(50, 50)\n",
    "        self.fc2_drop = nn.Dropout(0.2)\n",
    "        self.fc3 = nn.Linear(50, 10)\n",
    "\n",
    "    def forward(self, x):\n",
    "        x = x.view(-1, 28*28)\n",
    "        x = F.relu(self.fc1(x))\n",
    "        x = self.fc1_drop(x)\n",
    "        x = F.relu(self.fc2(x))\n",
    "        x = self.fc2_drop(x)\n",
    "        return F.log_softmax(self.fc3(x), dim=1)\n",
    "\n",
    "model = Net().to(device)\n",
    "optimizer = torch.optim.SGD(model.parameters(), lr=0.01, momentum=0.5)\n",
    "criterion = nn.CrossEntropyLoss()\n",
    "\n",
    "print(model)"
   ]
  },
  {
   "cell_type": "markdown",
   "metadata": {},
   "source": [
    "## Learning\n",
    "\n",
    "Let's now define functions to `train()` and `validate()` the model. "
   ]
  },
  {
   "cell_type": "code",
   "execution_count": 7,
   "metadata": {},
   "outputs": [],
   "source": [
    "def train(epoch, log_interval=200):\n",
    "    # Set model to training mode\n",
    "    model.train()\n",
    "    \n",
    "    # Loop over each batch from the training set\n",
    "    for batch_idx, (data, target) in enumerate(train_loader):\n",
    "        # Copy data to GPU if needed\n",
    "        data = data.to(device)\n",
    "        target = target.to(device)\n",
    "\n",
    "        # Zero gradient buffers\n",
    "        optimizer.zero_grad() \n",
    "        \n",
    "        # Pass data through the network\n",
    "        output = model(data)\n",
    "\n",
    "        # Calculate loss\n",
    "        loss = criterion(output, target)\n",
    "\n",
    "        # Backpropagate\n",
    "        loss.backward()\n",
    "        \n",
    "        # Update weights\n",
    "        optimizer.step()\n",
    "        \n",
    "        if batch_idx % log_interval == 0:\n",
    "            print('Train Epoch: {} [{}/{} ({:.0f}%)]\\tLoss: {:.6f}'.format(\n",
    "                epoch, batch_idx * len(data), len(train_loader.dataset),\n",
    "                100. * batch_idx / len(train_loader), loss.data.item()))"
   ]
  },
  {
   "cell_type": "code",
   "execution_count": 8,
   "metadata": {},
   "outputs": [],
   "source": [
    "def validate(loss_vector, accuracy_vector):\n",
    "    model.eval()\n",
    "    val_loss, correct = 0, 0\n",
    "    for data, target in validation_loader:\n",
    "        data = data.to(device)\n",
    "        target = target.to(device)\n",
    "        output = model(data)\n",
    "        val_loss += criterion(output, target).data.item()\n",
    "        pred = output.data.max(1)[1] # get the index of the max log-probability\n",
    "        correct += pred.eq(target.data).cpu().sum()\n",
    "\n",
    "    val_loss /= len(validation_loader)\n",
    "    loss_vector.append(val_loss)\n",
    "\n",
    "    accuracy = 100. * correct.to(torch.float32) / len(validation_loader.dataset)\n",
    "    accuracy_vector.append(accuracy)\n",
    "    \n",
    "    print('\\nValidation set: Average loss: {:.4f}, Accuracy: {}/{} ({:.0f}%)\\n'.format(\n",
    "        val_loss, correct, len(validation_loader.dataset), accuracy))"
   ]
  },
  {
   "cell_type": "markdown",
   "metadata": {},
   "source": [
    "Now we are ready to train our model using the `train()` function.  An *epoch* means one pass through the whole training data. After each epoch, we evaluate the model using `validate()`. "
   ]
  },
  {
   "cell_type": "code",
   "execution_count": 9,
   "metadata": {},
   "outputs": [
    {
     "name": "stdout",
     "output_type": "stream",
     "text": [
      "Train Epoch: 1 [0/60000 (0%)]\tLoss: 2.287841\n",
      "Train Epoch: 1 [6400/60000 (11%)]\tLoss: 2.149627\n",
      "Train Epoch: 1 [12800/60000 (21%)]\tLoss: 1.369063\n",
      "Train Epoch: 1 [19200/60000 (32%)]\tLoss: 0.774798\n",
      "Train Epoch: 1 [25600/60000 (43%)]\tLoss: 0.844541\n",
      "Train Epoch: 1 [32000/60000 (53%)]\tLoss: 0.667120\n",
      "Train Epoch: 1 [38400/60000 (64%)]\tLoss: 0.506478\n",
      "Train Epoch: 1 [44800/60000 (75%)]\tLoss: 0.707272\n",
      "Train Epoch: 1 [51200/60000 (85%)]\tLoss: 0.468098\n",
      "Train Epoch: 1 [57600/60000 (96%)]\tLoss: 0.442599\n",
      "\n",
      "Validation set: Average loss: 0.3445, Accuracy: 9024/10000 (90%)\n",
      "\n",
      "Train Epoch: 2 [0/60000 (0%)]\tLoss: 0.670430\n",
      "Train Epoch: 2 [6400/60000 (11%)]\tLoss: 0.612095\n",
      "Train Epoch: 2 [12800/60000 (21%)]\tLoss: 0.195346\n",
      "Train Epoch: 2 [19200/60000 (32%)]\tLoss: 1.002800\n",
      "Train Epoch: 2 [25600/60000 (43%)]\tLoss: 0.167393\n",
      "Train Epoch: 2 [32000/60000 (53%)]\tLoss: 0.448279\n",
      "Train Epoch: 2 [38400/60000 (64%)]\tLoss: 0.157280\n",
      "Train Epoch: 2 [44800/60000 (75%)]\tLoss: 0.378131\n",
      "Train Epoch: 2 [51200/60000 (85%)]\tLoss: 0.292422\n",
      "Train Epoch: 2 [57600/60000 (96%)]\tLoss: 0.440854\n",
      "\n",
      "Validation set: Average loss: 0.2528, Accuracy: 9271/10000 (93%)\n",
      "\n",
      "Train Epoch: 3 [0/60000 (0%)]\tLoss: 0.961011\n",
      "Train Epoch: 3 [6400/60000 (11%)]\tLoss: 0.285166\n",
      "Train Epoch: 3 [12800/60000 (21%)]\tLoss: 0.406207\n",
      "Train Epoch: 3 [19200/60000 (32%)]\tLoss: 0.329875\n",
      "Train Epoch: 3 [25600/60000 (43%)]\tLoss: 0.283333\n",
      "Train Epoch: 3 [32000/60000 (53%)]\tLoss: 0.478841\n",
      "Train Epoch: 3 [38400/60000 (64%)]\tLoss: 0.437824\n",
      "Train Epoch: 3 [44800/60000 (75%)]\tLoss: 0.606998\n",
      "Train Epoch: 3 [51200/60000 (85%)]\tLoss: 0.369896\n",
      "Train Epoch: 3 [57600/60000 (96%)]\tLoss: 0.108666\n",
      "\n",
      "Validation set: Average loss: 0.2072, Accuracy: 9399/10000 (94%)\n",
      "\n",
      "Train Epoch: 4 [0/60000 (0%)]\tLoss: 0.265165\n",
      "Train Epoch: 4 [6400/60000 (11%)]\tLoss: 0.340529\n",
      "Train Epoch: 4 [12800/60000 (21%)]\tLoss: 0.097147\n",
      "Train Epoch: 4 [19200/60000 (32%)]\tLoss: 0.578042\n",
      "Train Epoch: 4 [25600/60000 (43%)]\tLoss: 0.167482\n",
      "Train Epoch: 4 [32000/60000 (53%)]\tLoss: 0.212131\n",
      "Train Epoch: 4 [38400/60000 (64%)]\tLoss: 0.349992\n",
      "Train Epoch: 4 [44800/60000 (75%)]\tLoss: 0.340411\n",
      "Train Epoch: 4 [51200/60000 (85%)]\tLoss: 0.168108\n",
      "Train Epoch: 4 [57600/60000 (96%)]\tLoss: 0.216274\n",
      "\n",
      "Validation set: Average loss: 0.1796, Accuracy: 9469/10000 (95%)\n",
      "\n",
      "Train Epoch: 5 [0/60000 (0%)]\tLoss: 0.427017\n",
      "Train Epoch: 5 [6400/60000 (11%)]\tLoss: 0.208728\n",
      "Train Epoch: 5 [12800/60000 (21%)]\tLoss: 0.458668\n",
      "Train Epoch: 5 [19200/60000 (32%)]\tLoss: 0.092820\n",
      "Train Epoch: 5 [25600/60000 (43%)]\tLoss: 1.069348\n",
      "Train Epoch: 5 [32000/60000 (53%)]\tLoss: 0.257746\n",
      "Train Epoch: 5 [38400/60000 (64%)]\tLoss: 0.242052\n",
      "Train Epoch: 5 [44800/60000 (75%)]\tLoss: 0.225638\n",
      "Train Epoch: 5 [51200/60000 (85%)]\tLoss: 0.121117\n",
      "Train Epoch: 5 [57600/60000 (96%)]\tLoss: 0.341139\n",
      "\n",
      "Validation set: Average loss: 0.1619, Accuracy: 9526/10000 (95%)\n",
      "\n",
      "Train Epoch: 6 [0/60000 (0%)]\tLoss: 0.466830\n",
      "Train Epoch: 6 [6400/60000 (11%)]\tLoss: 0.249490\n",
      "Train Epoch: 6 [12800/60000 (21%)]\tLoss: 0.102461\n",
      "Train Epoch: 6 [19200/60000 (32%)]\tLoss: 0.168376\n",
      "Train Epoch: 6 [25600/60000 (43%)]\tLoss: 0.349728\n",
      "Train Epoch: 6 [32000/60000 (53%)]\tLoss: 0.077708\n",
      "Train Epoch: 6 [38400/60000 (64%)]\tLoss: 0.135405\n",
      "Train Epoch: 6 [44800/60000 (75%)]\tLoss: 0.421536\n",
      "Train Epoch: 6 [51200/60000 (85%)]\tLoss: 0.151573\n",
      "Train Epoch: 6 [57600/60000 (96%)]\tLoss: 0.160862\n",
      "\n",
      "Validation set: Average loss: 0.1481, Accuracy: 9553/10000 (96%)\n",
      "\n",
      "Train Epoch: 7 [0/60000 (0%)]\tLoss: 0.341339\n",
      "Train Epoch: 7 [6400/60000 (11%)]\tLoss: 0.167619\n",
      "Train Epoch: 7 [12800/60000 (21%)]\tLoss: 0.039526\n",
      "Train Epoch: 7 [19200/60000 (32%)]\tLoss: 0.079971\n",
      "Train Epoch: 7 [25600/60000 (43%)]\tLoss: 0.109094\n",
      "Train Epoch: 7 [32000/60000 (53%)]\tLoss: 0.129461\n",
      "Train Epoch: 7 [38400/60000 (64%)]\tLoss: 0.121320\n",
      "Train Epoch: 7 [44800/60000 (75%)]\tLoss: 0.330187\n",
      "Train Epoch: 7 [51200/60000 (85%)]\tLoss: 0.231141\n",
      "Train Epoch: 7 [57600/60000 (96%)]\tLoss: 0.247793\n",
      "\n",
      "Validation set: Average loss: 0.1402, Accuracy: 9576/10000 (96%)\n",
      "\n",
      "Train Epoch: 8 [0/60000 (0%)]\tLoss: 0.144719\n",
      "Train Epoch: 8 [6400/60000 (11%)]\tLoss: 0.236489\n",
      "Train Epoch: 8 [12800/60000 (21%)]\tLoss: 0.038001\n",
      "Train Epoch: 8 [19200/60000 (32%)]\tLoss: 0.055399\n",
      "Train Epoch: 8 [25600/60000 (43%)]\tLoss: 0.225377\n",
      "Train Epoch: 8 [32000/60000 (53%)]\tLoss: 0.068672\n",
      "Train Epoch: 8 [38400/60000 (64%)]\tLoss: 0.097178\n",
      "Train Epoch: 8 [44800/60000 (75%)]\tLoss: 0.026955\n",
      "Train Epoch: 8 [51200/60000 (85%)]\tLoss: 0.171098\n",
      "Train Epoch: 8 [57600/60000 (96%)]\tLoss: 0.220311\n",
      "\n",
      "Validation set: Average loss: 0.1338, Accuracy: 9600/10000 (96%)\n",
      "\n",
      "Train Epoch: 9 [0/60000 (0%)]\tLoss: 0.226944\n",
      "Train Epoch: 9 [6400/60000 (11%)]\tLoss: 0.108945\n",
      "Train Epoch: 9 [12800/60000 (21%)]\tLoss: 0.123464\n",
      "Train Epoch: 9 [19200/60000 (32%)]\tLoss: 0.131325\n",
      "Train Epoch: 9 [25600/60000 (43%)]\tLoss: 0.128506\n",
      "Train Epoch: 9 [32000/60000 (53%)]\tLoss: 0.178690\n",
      "Train Epoch: 9 [38400/60000 (64%)]\tLoss: 0.165948\n",
      "Train Epoch: 9 [44800/60000 (75%)]\tLoss: 0.237075\n",
      "Train Epoch: 9 [51200/60000 (85%)]\tLoss: 0.085619\n",
      "Train Epoch: 9 [57600/60000 (96%)]\tLoss: 0.062784\n",
      "\n",
      "Validation set: Average loss: 0.1262, Accuracy: 9617/10000 (96%)\n",
      "\n",
      "Train Epoch: 10 [0/60000 (0%)]\tLoss: 0.088049\n",
      "Train Epoch: 10 [6400/60000 (11%)]\tLoss: 0.442159\n",
      "Train Epoch: 10 [12800/60000 (21%)]\tLoss: 0.582061\n",
      "Train Epoch: 10 [19200/60000 (32%)]\tLoss: 0.271821\n",
      "Train Epoch: 10 [25600/60000 (43%)]\tLoss: 0.286246\n",
      "Train Epoch: 10 [32000/60000 (53%)]\tLoss: 0.096990\n",
      "Train Epoch: 10 [38400/60000 (64%)]\tLoss: 0.293191\n",
      "Train Epoch: 10 [44800/60000 (75%)]\tLoss: 0.078301\n",
      "Train Epoch: 10 [51200/60000 (85%)]\tLoss: 0.262693\n",
      "Train Epoch: 10 [57600/60000 (96%)]\tLoss: 0.032543\n",
      "\n",
      "Validation set: Average loss: 0.1224, Accuracy: 9627/10000 (96%)\n",
      "\n",
      "CPU times: user 1min 33s, sys: 12.6 s, total: 1min 45s\n",
      "Wall time: 1min 38s\n"
     ]
    }
   ],
   "source": [
    "%%time\n",
    "epochs = 10\n",
    "\n",
    "lossv, accv = [], []\n",
    "for epoch in range(1, epochs + 1):\n",
    "    train(epoch)\n",
    "    validate(lossv, accv)"
   ]
  },
  {
   "cell_type": "code",
   "execution_count": null,
   "metadata": {},
   "outputs": [],
   "source": []
  }
 ],
 "metadata": {
  "kernelspec": {
   "display_name": "Python 3",
   "language": "python",
   "name": "python3"
  },
  "language_info": {
   "codemirror_mode": {
    "name": "ipython",
    "version": 3
   },
   "file_extension": ".py",
   "mimetype": "text/x-python",
   "name": "python",
   "nbconvert_exporter": "python",
   "pygments_lexer": "ipython3",
   "version": "3.7.5"
  }
 },
 "nbformat": 4,
 "nbformat_minor": 4
}
