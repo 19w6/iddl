{
 "cells": [
  {
   "cell_type": "code",
   "execution_count": 1,
   "metadata": {},
   "outputs": [],
   "source": [
    "# For inline plotting\n",
    "%matplotlib inline\n",
    "\n",
    "# For auto reloading\n",
    "%load_ext autoreload\n",
    "%autoreload 2"
   ]
  },
  {
   "cell_type": "markdown",
   "metadata": {},
   "source": [
    "# MNIST dataset with MLP\n",
    "\n",
    "[reference](https://github.com/CSCfi/machine-learning-scripts/blob/master/notebooks/pytorch-mnist-mlp.ipynb)"
   ]
  },
  {
   "cell_type": "code",
   "execution_count": 2,
   "metadata": {},
   "outputs": [
    {
     "name": "stdout",
     "output_type": "stream",
     "text": [
      "Using PyTorch version: 1.3.1  Device: cuda\n"
     ]
    }
   ],
   "source": [
    "import torch\n",
    "import torch.nn as nn\n",
    "import torch.nn.functional as F\n",
    "import torch.backends.cudnn as cudnn\n",
    "from torchvision import datasets, transforms\n",
    "\n",
    "import numpy as np\n",
    "import matplotlib.pyplot as plt\n",
    "\n",
    "if torch.cuda.is_available():\n",
    "    device = torch.device('cuda')\n",
    "else:\n",
    "    device = torch.device('cpu')\n",
    "    \n",
    "print('Using PyTorch version:', torch.__version__, ' Device:', device)"
   ]
  },
  {
   "cell_type": "markdown",
   "metadata": {},
   "source": [
    "## Data\n",
    "\n",
    "Next we'll load the MNIST data. First time we may have to download the data, which can take a while.\n",
    "\n",
    "Note that we are here using the MNIST test data for *validation*, instead of for testing the final model."
   ]
  },
  {
   "cell_type": "code",
   "execution_count": 3,
   "metadata": {},
   "outputs": [
    {
     "name": "stdout",
     "output_type": "stream",
     "text": [
      "Downloading http://yann.lecun.com/exdb/mnist/train-images-idx3-ubyte.gz to ./data/MNIST/raw/train-images-idx3-ubyte.gz\n"
     ]
    },
    {
     "name": "stderr",
     "output_type": "stream",
     "text": [
      "100.1%"
     ]
    },
    {
     "name": "stdout",
     "output_type": "stream",
     "text": [
      "Extracting ./data/MNIST/raw/train-images-idx3-ubyte.gz to ./data/MNIST/raw\n",
      "Downloading http://yann.lecun.com/exdb/mnist/train-labels-idx1-ubyte.gz to ./data/MNIST/raw/train-labels-idx1-ubyte.gz\n"
     ]
    },
    {
     "name": "stderr",
     "output_type": "stream",
     "text": [
      "113.5%"
     ]
    },
    {
     "name": "stdout",
     "output_type": "stream",
     "text": [
      "Extracting ./data/MNIST/raw/train-labels-idx1-ubyte.gz to ./data/MNIST/raw\n",
      "Downloading http://yann.lecun.com/exdb/mnist/t10k-images-idx3-ubyte.gz to ./data/MNIST/raw/t10k-images-idx3-ubyte.gz\n"
     ]
    },
    {
     "name": "stderr",
     "output_type": "stream",
     "text": [
      "100.4%"
     ]
    },
    {
     "name": "stdout",
     "output_type": "stream",
     "text": [
      "Extracting ./data/MNIST/raw/t10k-images-idx3-ubyte.gz to ./data/MNIST/raw\n",
      "Downloading http://yann.lecun.com/exdb/mnist/t10k-labels-idx1-ubyte.gz to ./data/MNIST/raw/t10k-labels-idx1-ubyte.gz\n"
     ]
    },
    {
     "name": "stderr",
     "output_type": "stream",
     "text": [
      "180.4%"
     ]
    },
    {
     "name": "stdout",
     "output_type": "stream",
     "text": [
      "Extracting ./data/MNIST/raw/t10k-labels-idx1-ubyte.gz to ./data/MNIST/raw\n",
      "Processing...\n",
      "Done!\n"
     ]
    }
   ],
   "source": [
    "batch_size = 32\n",
    "\n",
    "train_dataset = datasets.MNIST('./data', \n",
    "                               train=True, \n",
    "                               download=True, \n",
    "                               transform=transforms.ToTensor())\n",
    "\n",
    "validation_dataset = datasets.MNIST('./data', \n",
    "                                    train=False, \n",
    "                                    transform=transforms.ToTensor())\n",
    "\n",
    "train_loader = torch.utils.data.DataLoader(dataset=train_dataset, \n",
    "                                           batch_size=batch_size, \n",
    "                                           shuffle=True)\n",
    "\n",
    "validation_loader = torch.utils.data.DataLoader(dataset=validation_dataset, \n",
    "                                                batch_size=batch_size, \n",
    "                                                shuffle=False)"
   ]
  },
  {
   "cell_type": "markdown",
   "metadata": {},
   "source": [
    "The train and test data are provided via data loaders that provide iterators over the datasets. The first element of training data (`X_train`) is a 4th-order tensor of size (`batch_size`, 1, 28, 28), i.e. it consists of a batch of images of size 1x28x28 pixels. `y_train` is a vector containing the correct classes (\"0\", \"1\", ..., \"9\") for each training digit."
   ]
  },
  {
   "cell_type": "code",
   "execution_count": 4,
   "metadata": {},
   "outputs": [
    {
     "name": "stdout",
     "output_type": "stream",
     "text": [
      "X_train: torch.Size([32, 1, 28, 28]) type: torch.FloatTensor\n",
      "y_train: torch.Size([32]) type: torch.LongTensor\n"
     ]
    }
   ],
   "source": [
    "for (X_train, y_train) in train_loader:\n",
    "    print('X_train:', X_train.size(), 'type:', X_train.type())\n",
    "    print('y_train:', y_train.size(), 'type:', y_train.type())\n",
    "    break"
   ]
  },
  {
   "cell_type": "markdown",
   "metadata": {},
   "source": [
    "Here are the first 10 training digits:"
   ]
  },
  {
   "cell_type": "code",
   "execution_count": 5,
   "metadata": {},
   "outputs": [
    {
     "data": {
      "image/png": "[encoded data removed]",
      "text/plain": [
       "<Figure size 1080x108 with 10 Axes>"
      ]
     },
     "metadata": {
      "needs_background": "light"
     },
     "output_type": "display_data"
    }
   ],
   "source": [
    "pltsize = 1.5\n",
    "plt.figure(figsize=(10*pltsize, pltsize))\n",
    "\n",
    "for i in range(10):\n",
    "    plt.subplot(1, 10, i + 1)\n",
    "    plt.axis('off')\n",
    "    plt.imshow(X_train[i,:,:,:].numpy().reshape(28, 28), cmap=\"gray_r\")\n",
    "    plt.title('Class: {}'.format(y_train[i].item()))"
   ]
  },
  {
   "cell_type": "markdown",
   "metadata": {},
   "source": [
    "## MLP network definition\n",
    "\n",
    "Let's define the network as a Python class.  We have to write the `__init__()` and `forward()` methods, and PyTorch will automatically generate a `backward()` method for computing the gradients for the backward pass.\n",
    "\n",
    "Finally, we define an optimizer to update the model parameters based on the computed gradients.  We select *stochastic gradient descent (with momentum)* as the optimization algorithm, and set *learning rate* to 0.01.  Note that there are [several different options](http://pytorch.org/docs/optim.html#algorithms) for the optimizer in PyTorch that we could use instead of *SGD*."
   ]
  },
  {
   "cell_type": "code",
   "execution_count": 6,
   "metadata": {},
   "outputs": [
    {
     "name": "stdout",
     "output_type": "stream",
     "text": [
      "device = cuda\n",
      "Current device: 0\n",
      "Current device name: GeForce GTX 970\n",
      "Cuda device count: 1\n",
      "Cuda is available. Running the model using DataParallel...\n",
      "DataParallel(\n",
      "  (module): Net(\n",
      "    (fc1): Linear(in_features=784, out_features=49, bias=True)\n",
      "    (fc1_drop): Dropout(p=0.2, inplace=False)\n",
      "    (fc2): Linear(in_features=49, out_features=56, bias=True)\n",
      "    (fc3): Linear(in_features=56, out_features=10, bias=True)\n",
      "  )\n",
      ")\n"
     ]
    }
   ],
   "source": [
    "class Net(nn.Module):\n",
    "    def __init__(self):\n",
    "        super(Net, self).__init__()\n",
    "        self.fc1 = nn.Linear(28*28, 49)\n",
    "        self.fc1_drop = nn.Dropout(0.2)\n",
    "        self.fc2 = nn.Linear(49, 56)\n",
    "#         self.fc2_drop = nn.Dropout(0.2)\n",
    "        self.fc3 = nn.Linear(56, 10)\n",
    "\n",
    "    def forward(self, x):\n",
    "        x = x.view(-1, 28*28)\n",
    "        x = F.relu(self.fc1(x))\n",
    "        x = self.fc1_drop(x)\n",
    "        x = F.relu(self.fc2(x))\n",
    "#         x = self.fc2_drop(x)\n",
    "        return F.log_softmax(self.fc3(x), dim=1)\n",
    "\n",
    "model = Net().to(device)\n",
    "optimizer = torch.optim.SGD(model.parameters(), lr=0.01, momentum=0.5)\n",
    "criterion = nn.CrossEntropyLoss()\n",
    "\n",
    "print('device = {}'.format(device))\n",
    "print('Current device: {}'.format(torch.cuda.current_device()))\n",
    "print('Current device name: {}'.format(torch.cuda.get_device_name(torch.cuda.current_device())))\n",
    "print('Cuda device count: {}'.format(torch.cuda.device_count()))\n",
    "if torch.cuda.is_available():\n",
    "    model = torch.nn.DataParallel(model)\n",
    "    cudnn.benchmark = True\n",
    "    print('Cuda is available. Running the model using DataParallel...')\n",
    "\n",
    "print(model)"
   ]
  },
  {
   "cell_type": "markdown",
   "metadata": {},
   "source": [
    "## Learning\n",
    "\n",
    "Let's now define functions to `train()` and `validate()` the model. "
   ]
  },
  {
   "cell_type": "code",
   "execution_count": 7,
   "metadata": {},
   "outputs": [],
   "source": [
    "def train(epoch, log_interval=200):\n",
    "    # Set model to training mode\n",
    "    model.train()\n",
    "    \n",
    "    # Loop over each batch from the training set\n",
    "    for batch_idx, (data, target) in enumerate(train_loader):\n",
    "        # Copy data to GPU if needed\n",
    "        data = data.to(device)\n",
    "        target = target.to(device)\n",
    "\n",
    "        # Zero gradient buffers\n",
    "        optimizer.zero_grad() \n",
    "        \n",
    "        # Pass data through the network\n",
    "        output = model(data)\n",
    "\n",
    "        # Calculate loss\n",
    "        loss = criterion(output, target)\n",
    "\n",
    "        # Backpropagate\n",
    "        loss.backward()\n",
    "        \n",
    "        # Update weights\n",
    "        optimizer.step()\n",
    "        \n",
    "        if batch_idx % log_interval == 0:\n",
    "            print('Train Epoch: {} [{}/{} ({:.0f}%)]\\tLoss: {:.6f}'.format(\n",
    "                epoch, batch_idx * len(data), len(train_loader.dataset),\n",
    "                100. * batch_idx / len(train_loader), loss.data.item()))"
   ]
  },
  {
   "cell_type": "code",
   "execution_count": 8,
   "metadata": {},
   "outputs": [],
   "source": [
    "def validate(loss_vector, accuracy_vector):\n",
    "    model.eval()\n",
    "    val_loss, correct = 0, 0\n",
    "    for data, target in validation_loader:\n",
    "        data = data.to(device)\n",
    "        target = target.to(device)\n",
    "        output = model(data)\n",
    "        val_loss += criterion(output, target).data.item()\n",
    "        pred = output.data.max(1)[1] # get the index of the max log-probability\n",
    "        correct += pred.eq(target.data).cpu().sum()\n",
    "\n",
    "    val_loss /= len(validation_loader)\n",
    "    loss_vector.append(val_loss)\n",
    "\n",
    "    accuracy = 100. * correct.to(torch.float32) / len(validation_loader.dataset)\n",
    "    accuracy_vector.append(accuracy)\n",
    "    \n",
    "    print('\\nValidation set: Average loss: {:.4f}, Accuracy: {}/{} ({:.0f}%)\\n'.format(\n",
    "        val_loss, correct, len(validation_loader.dataset), accuracy))"
   ]
  },
  {
   "cell_type": "markdown",
   "metadata": {},
   "source": [
    "Now we are ready to train our model using the `train()` function.  An *epoch* means one pass through the whole training data. After each epoch, we evaluate the model using `validate()`. "
   ]
  },
  {
   "cell_type": "code",
   "execution_count": 9,
   "metadata": {},
   "outputs": [
    {
     "name": "stdout",
     "output_type": "stream",
     "text": [
      "Train Epoch: 1 [0/60000 (0%)]\tLoss: 2.288995\n",
      "Train Epoch: 1 [6400/60000 (11%)]\tLoss: 2.034168\n",
      "Train Epoch: 1 [12800/60000 (21%)]\tLoss: 1.500343\n",
      "Train Epoch: 1 [19200/60000 (32%)]\tLoss: 0.835285\n",
      "Train Epoch: 1 [25600/60000 (43%)]\tLoss: 0.895024\n",
      "Train Epoch: 1 [32000/60000 (53%)]\tLoss: 0.537316\n",
      "Train Epoch: 1 [38400/60000 (64%)]\tLoss: 0.644280\n",
      "Train Epoch: 1 [44800/60000 (75%)]\tLoss: 0.440662\n",
      "Train Epoch: 1 [51200/60000 (85%)]\tLoss: 0.538794\n",
      "Train Epoch: 1 [57600/60000 (96%)]\tLoss: 0.366692\n",
      "\n",
      "Validation set: Average loss: 0.3341, Accuracy: 9031/10000 (90%)\n",
      "\n",
      "Train Epoch: 2 [0/60000 (0%)]\tLoss: 0.225900\n",
      "Train Epoch: 2 [6400/60000 (11%)]\tLoss: 0.539361\n",
      "Train Epoch: 2 [12800/60000 (21%)]\tLoss: 0.781763\n",
      "Train Epoch: 2 [19200/60000 (32%)]\tLoss: 0.463505\n",
      "Train Epoch: 2 [25600/60000 (43%)]\tLoss: 0.618380\n",
      "Train Epoch: 2 [32000/60000 (53%)]\tLoss: 0.491300\n",
      "Train Epoch: 2 [38400/60000 (64%)]\tLoss: 0.351513\n",
      "Train Epoch: 2 [44800/60000 (75%)]\tLoss: 0.289987\n",
      "Train Epoch: 2 [51200/60000 (85%)]\tLoss: 0.436370\n",
      "Train Epoch: 2 [57600/60000 (96%)]\tLoss: 0.161555\n",
      "\n",
      "Validation set: Average loss: 0.2468, Accuracy: 9314/10000 (93%)\n",
      "\n",
      "Train Epoch: 3 [0/60000 (0%)]\tLoss: 0.231633\n",
      "Train Epoch: 3 [6400/60000 (11%)]\tLoss: 0.323015\n",
      "Train Epoch: 3 [12800/60000 (21%)]\tLoss: 0.358220\n",
      "Train Epoch: 3 [19200/60000 (32%)]\tLoss: 0.256832\n",
      "Train Epoch: 3 [25600/60000 (43%)]\tLoss: 0.491382\n",
      "Train Epoch: 3 [32000/60000 (53%)]\tLoss: 0.326846\n",
      "Train Epoch: 3 [38400/60000 (64%)]\tLoss: 0.178594\n",
      "Train Epoch: 3 [44800/60000 (75%)]\tLoss: 0.195309\n",
      "Train Epoch: 3 [51200/60000 (85%)]\tLoss: 0.224062\n",
      "Train Epoch: 3 [57600/60000 (96%)]\tLoss: 0.343747\n",
      "\n",
      "Validation set: Average loss: 0.2058, Accuracy: 9395/10000 (94%)\n",
      "\n",
      "Train Epoch: 4 [0/60000 (0%)]\tLoss: 0.199043\n",
      "Train Epoch: 4 [6400/60000 (11%)]\tLoss: 0.121583\n",
      "Train Epoch: 4 [12800/60000 (21%)]\tLoss: 0.348579\n",
      "Train Epoch: 4 [19200/60000 (32%)]\tLoss: 0.534967\n",
      "Train Epoch: 4 [25600/60000 (43%)]\tLoss: 0.065090\n",
      "Train Epoch: 4 [32000/60000 (53%)]\tLoss: 0.080032\n",
      "Train Epoch: 4 [38400/60000 (64%)]\tLoss: 0.113474\n",
      "Train Epoch: 4 [44800/60000 (75%)]\tLoss: 0.121161\n",
      "Train Epoch: 4 [51200/60000 (85%)]\tLoss: 0.203930\n",
      "Train Epoch: 4 [57600/60000 (96%)]\tLoss: 0.119910\n",
      "\n",
      "Validation set: Average loss: 0.1763, Accuracy: 9465/10000 (95%)\n",
      "\n",
      "Train Epoch: 5 [0/60000 (0%)]\tLoss: 0.194015\n",
      "Train Epoch: 5 [6400/60000 (11%)]\tLoss: 0.384220\n",
      "Train Epoch: 5 [12800/60000 (21%)]\tLoss: 0.554702\n",
      "Train Epoch: 5 [19200/60000 (32%)]\tLoss: 0.334582\n",
      "Train Epoch: 5 [25600/60000 (43%)]\tLoss: 0.125186\n",
      "Train Epoch: 5 [32000/60000 (53%)]\tLoss: 0.048902\n",
      "Train Epoch: 5 [38400/60000 (64%)]\tLoss: 0.167405\n",
      "Train Epoch: 5 [44800/60000 (75%)]\tLoss: 0.089019\n",
      "Train Epoch: 5 [51200/60000 (85%)]\tLoss: 0.128544\n",
      "Train Epoch: 5 [57600/60000 (96%)]\tLoss: 0.138617\n",
      "\n",
      "Validation set: Average loss: 0.1545, Accuracy: 9536/10000 (95%)\n",
      "\n",
      "Train Epoch: 6 [0/60000 (0%)]\tLoss: 0.038659\n",
      "Train Epoch: 6 [6400/60000 (11%)]\tLoss: 0.583143\n",
      "Train Epoch: 6 [12800/60000 (21%)]\tLoss: 0.197173\n",
      "Train Epoch: 6 [19200/60000 (32%)]\tLoss: 0.328584\n",
      "Train Epoch: 6 [25600/60000 (43%)]\tLoss: 0.246630\n",
      "Train Epoch: 6 [32000/60000 (53%)]\tLoss: 0.319043\n",
      "Train Epoch: 6 [38400/60000 (64%)]\tLoss: 0.329464\n",
      "Train Epoch: 6 [44800/60000 (75%)]\tLoss: 0.159831\n",
      "Train Epoch: 6 [51200/60000 (85%)]\tLoss: 0.149394\n",
      "Train Epoch: 6 [57600/60000 (96%)]\tLoss: 0.115418\n",
      "\n",
      "Validation set: Average loss: 0.1392, Accuracy: 9576/10000 (96%)\n",
      "\n",
      "Train Epoch: 7 [0/60000 (0%)]\tLoss: 0.193782\n",
      "Train Epoch: 7 [6400/60000 (11%)]\tLoss: 0.322511\n",
      "Train Epoch: 7 [12800/60000 (21%)]\tLoss: 0.275087\n",
      "Train Epoch: 7 [19200/60000 (32%)]\tLoss: 0.173855\n",
      "Train Epoch: 7 [25600/60000 (43%)]\tLoss: 0.273444\n",
      "Train Epoch: 7 [32000/60000 (53%)]\tLoss: 0.147334\n",
      "Train Epoch: 7 [38400/60000 (64%)]\tLoss: 0.169134\n",
      "Train Epoch: 7 [44800/60000 (75%)]\tLoss: 0.225209\n",
      "Train Epoch: 7 [51200/60000 (85%)]\tLoss: 0.172297\n",
      "Train Epoch: 7 [57600/60000 (96%)]\tLoss: 0.233400\n",
      "\n",
      "Validation set: Average loss: 0.1311, Accuracy: 9590/10000 (96%)\n",
      "\n",
      "Train Epoch: 8 [0/60000 (0%)]\tLoss: 0.335430\n",
      "Train Epoch: 8 [6400/60000 (11%)]\tLoss: 0.075670\n",
      "Train Epoch: 8 [12800/60000 (21%)]\tLoss: 0.164030\n",
      "Train Epoch: 8 [19200/60000 (32%)]\tLoss: 0.088389\n",
      "Train Epoch: 8 [25600/60000 (43%)]\tLoss: 0.240764\n",
      "Train Epoch: 8 [32000/60000 (53%)]\tLoss: 0.200208\n",
      "Train Epoch: 8 [38400/60000 (64%)]\tLoss: 0.102461\n",
      "Train Epoch: 8 [44800/60000 (75%)]\tLoss: 0.123890\n",
      "Train Epoch: 8 [51200/60000 (85%)]\tLoss: 0.319360\n",
      "Train Epoch: 8 [57600/60000 (96%)]\tLoss: 0.153789\n",
      "\n",
      "Validation set: Average loss: 0.1244, Accuracy: 9629/10000 (96%)\n",
      "\n",
      "Train Epoch: 9 [0/60000 (0%)]\tLoss: 0.199071\n",
      "Train Epoch: 9 [6400/60000 (11%)]\tLoss: 0.084314\n",
      "Train Epoch: 9 [12800/60000 (21%)]\tLoss: 0.033713\n",
      "Train Epoch: 9 [19200/60000 (32%)]\tLoss: 0.126921\n",
      "Train Epoch: 9 [25600/60000 (43%)]\tLoss: 0.040230\n",
      "Train Epoch: 9 [32000/60000 (53%)]\tLoss: 0.109346\n",
      "Train Epoch: 9 [38400/60000 (64%)]\tLoss: 0.068882\n",
      "Train Epoch: 9 [44800/60000 (75%)]\tLoss: 0.332667\n",
      "Train Epoch: 9 [51200/60000 (85%)]\tLoss: 0.286238\n",
      "Train Epoch: 9 [57600/60000 (96%)]\tLoss: 0.120350\n",
      "\n",
      "Validation set: Average loss: 0.1190, Accuracy: 9636/10000 (96%)\n",
      "\n",
      "Train Epoch: 10 [0/60000 (0%)]\tLoss: 0.034886\n",
      "Train Epoch: 10 [6400/60000 (11%)]\tLoss: 0.071406\n",
      "Train Epoch: 10 [12800/60000 (21%)]\tLoss: 0.075351\n",
      "Train Epoch: 10 [19200/60000 (32%)]\tLoss: 0.018543\n",
      "Train Epoch: 10 [25600/60000 (43%)]\tLoss: 0.106188\n",
      "Train Epoch: 10 [32000/60000 (53%)]\tLoss: 0.062266\n",
      "Train Epoch: 10 [38400/60000 (64%)]\tLoss: 0.107737\n",
      "Train Epoch: 10 [44800/60000 (75%)]\tLoss: 0.196449\n",
      "Train Epoch: 10 [51200/60000 (85%)]\tLoss: 0.577778\n",
      "Train Epoch: 10 [57600/60000 (96%)]\tLoss: 0.157547\n",
      "\n",
      "Validation set: Average loss: 0.1182, Accuracy: 9639/10000 (96%)\n",
      "\n",
      "CPU times: user 2min 12s, sys: 2.12 s, total: 2min 15s\n",
      "Wall time: 1min 57s\n"
     ]
    }
   ],
   "source": [
    "%%time\n",
    "epochs = 10\n",
    "\n",
    "lossv, accv = [], []\n",
    "for epoch in range(1, epochs + 1):\n",
    "    train(epoch)\n",
    "    validate(lossv, accv)"
   ]
  },
  {
   "cell_type": "code",
   "execution_count": 10,
   "metadata": {},
   "outputs": [
    {
     "name": "stdout",
     "output_type": "stream",
     "text": [
      "Register FLOP counter for module Linear(in_features=784, out_features=49, bias=True)\n",
      "Register FLOP counter for module Dropout(p=0.2, inplace=False)\n",
      "Register FLOP counter for module Linear(in_features=49, out_features=56, bias=True)\n",
      "Register FLOP counter for module Linear(in_features=56, out_features=10, bias=True)\n",
      "Params(M): 0.04, FLOPs(M): 0.08\n"
     ]
    }
   ],
   "source": [
    "from thop import profile\n",
    "\n",
    "input = torch.randn(1, 28, 28).to(device)\n",
    "flops, params = profile(Net().to(device), inputs=(input, ))\n",
    "print('Params(M): %.2f, FLOPs(M): %.2f' % (params / (1000 ** 2), flops / (1000 ** 2)))"
   ]
  },
  {
   "cell_type": "code",
   "execution_count": null,
   "metadata": {},
   "outputs": [],
   "source": []
  }
 ],
 "metadata": {
  "kernelspec": {
   "display_name": "Python 3",
   "language": "python",
   "name": "python3"
  },
  "language_info": {
   "codemirror_mode": {
    "name": "ipython",
    "version": 3
   },
   "file_extension": ".py",
   "mimetype": "text/x-python",
   "name": "python",
   "nbconvert_exporter": "python",
   "pygments_lexer": "ipython3",
   "version": "3.6.9"
  }
 },
 "nbformat": 4,
 "nbformat_minor": 4
}
