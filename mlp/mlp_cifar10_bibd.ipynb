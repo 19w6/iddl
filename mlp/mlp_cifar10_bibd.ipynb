{
 "cells": [
  {
   "cell_type": "code",
   "execution_count": 1,
   "metadata": {},
   "outputs": [],
   "source": [
    "# For inline plotting\n",
    "%matplotlib inline\n",
    "\n",
    "# For auto reloading\n",
    "%load_ext autoreload\n",
    "%autoreload 2"
   ]
  },
  {
   "cell_type": "markdown",
   "metadata": {},
   "source": [
    "# CIFAR10 dataset with MLP\n",
    "\n",
    "[reference](https://github.com/CSCfi/machine-learning-scripts/blob/master/notebooks/pytorch-mnist-mlp.ipynb)"
   ]
  },
  {
   "cell_type": "code",
   "execution_count": 2,
   "metadata": {},
   "outputs": [
    {
     "name": "stdout",
     "output_type": "stream",
     "text": [
      "Using PyTorch version: 1.3.1  Device: cuda\n"
     ]
    }
   ],
   "source": [
    "import torch\n",
    "import torch.nn as nn\n",
    "import torch.nn.functional as F\n",
    "from torchvision import datasets, transforms\n",
    "\n",
    "import numpy as np\n",
    "import matplotlib.pyplot as plt\n",
    "\n",
    "if torch.cuda.is_available():\n",
    "    device = torch.device('cuda')\n",
    "else:\n",
    "    device = torch.device('cpu')\n",
    "    \n",
    "print('Using PyTorch version:', torch.__version__, ' Device:', device)"
   ]
  },
  {
   "cell_type": "markdown",
   "metadata": {},
   "source": [
    "## Data\n",
    "\n",
    "Next we'll load the CIFAR10 data. First time we may have to download the data, which can take a while.\n",
    "\n",
    "Note that we are here using the CIFAR10 test data for *validation*, instead of for testing the final model."
   ]
  },
  {
   "cell_type": "code",
   "execution_count": 3,
   "metadata": {},
   "outputs": [
    {
     "name": "stdout",
     "output_type": "stream",
     "text": [
      "Files already downloaded and verified\n"
     ]
    }
   ],
   "source": [
    "batch_size = 32\n",
    "\n",
    "train_dataset = datasets.CIFAR10('./data', \n",
    "                               train=True, \n",
    "                               download=True, \n",
    "                               transform=transforms.ToTensor())\n",
    "\n",
    "validation_dataset = datasets.CIFAR10('./data', \n",
    "                                    train=False, \n",
    "                                    transform=transforms.ToTensor())\n",
    "\n",
    "train_loader = torch.utils.data.DataLoader(dataset=train_dataset, \n",
    "                                           batch_size=batch_size, \n",
    "                                           shuffle=True)\n",
    "\n",
    "validation_loader = torch.utils.data.DataLoader(dataset=validation_dataset, \n",
    "                                                batch_size=batch_size, \n",
    "                                                shuffle=False)"
   ]
  },
  {
   "cell_type": "markdown",
   "metadata": {},
   "source": [
    "The train and test data are provided via data loaders that provide iterators over the datasets. The first element of training data (`X_train`) is a 4th-order tensor of size (`batch_size`, 3, 32, 32), i.e. it consists of a batch of images of size $3 \\times 32 \\times 32$ pixels. `y_train` is a vector containing the correct classes (\"0\", \"1\", ..., \"9\") for each training digit."
   ]
  },
  {
   "cell_type": "code",
   "execution_count": 4,
   "metadata": {},
   "outputs": [
    {
     "name": "stdout",
     "output_type": "stream",
     "text": [
      "X_train: torch.Size([32, 3, 32, 32]) type: torch.FloatTensor\n",
      "y_train: torch.Size([32]) type: torch.LongTensor\n"
     ]
    }
   ],
   "source": [
    "for (X_train, y_train) in train_loader:\n",
    "    print('X_train:', X_train.size(), 'type:', X_train.type())\n",
    "    print('y_train:', y_train.size(), 'type:', y_train.type())\n",
    "    break"
   ]
  },
  {
   "cell_type": "markdown",
   "metadata": {},
   "source": [
    "Here are the first 10 training digits:"
   ]
  },
  {
   "cell_type": "markdown",
   "metadata": {},
   "source": [
    "## MLP network definition\n",
    "\n",
    "Let's define the network as a Python class.  We have to write the `__init__()` and `forward()` methods, and PyTorch will automatically generate a `backward()` method for computing the gradients for the backward pass.\n",
    "\n",
    "Finally, we define an optimizer to update the model parameters based on the computed gradients.  We select *stochastic gradient descent (with momentum)* as the optimization algorithm, and set *learning rate* to 0.01.  Note that there are [several different options](http://pytorch.org/docs/optim.html#algorithms) for the optimizer in PyTorch that we could use instead of *SGD*."
   ]
  },
  {
   "cell_type": "code",
   "execution_count": 5,
   "metadata": {},
   "outputs": [
    {
     "name": "stdout",
     "output_type": "stream",
     "text": [
      "Net(\n",
      "  (fc1): Linear(in_features=3072, out_features=56, bias=True)\n",
      "  (fc1_drop): Dropout(p=0.2, inplace=False)\n",
      "  (bibd2): BibdLinear()\n",
      "  (fc3): Linear(in_features=49, out_features=10, bias=True)\n",
      ")\n"
     ]
    }
   ],
   "source": [
    "import sys\n",
    "sys.path.append('../bibd')\n",
    "from bibd_layer import BibdLinear\n",
    "\n",
    "r = 7\n",
    "\n",
    "class Net(nn.Module):\n",
    "    def __init__(self):\n",
    "        super(Net, self).__init__()\n",
    "        \n",
    "        self.fc1 = nn.Linear(3*32*32, r*(r+1))\n",
    "        self.fc1_drop = nn.Dropout(0.2)\n",
    "        self.bibd2 = BibdLinear(r*(r+1), r*r, number_of_block=r)\n",
    "        self.fc3 = nn.Linear(r*r, 10)\n",
    "\n",
    "    def forward(self, x):\n",
    "        x = x.view(-1, 3*32*32)\n",
    "        x = F.relu(self.fc1(x))\n",
    "        x = self.fc1_drop(x)\n",
    "        x = F.relu(self.bibd2(x))\n",
    "        return F.log_softmax(self.fc3(x), dim=1)\n",
    "\n",
    "model = Net().to(device)\n",
    "optimizer = torch.optim.SGD(model.parameters(), lr=0.01, momentum=0.5)\n",
    "criterion = nn.CrossEntropyLoss()\n",
    "\n",
    "print(model)"
   ]
  },
  {
   "cell_type": "markdown",
   "metadata": {},
   "source": [
    "## Learning\n",
    "\n",
    "Let's now define functions to `train()` and `validate()` the model. "
   ]
  },
  {
   "cell_type": "code",
   "execution_count": 6,
   "metadata": {},
   "outputs": [],
   "source": [
    "def train(epoch, log_interval=200):\n",
    "    # Set model to training mode\n",
    "    model.train()\n",
    "    \n",
    "    # Loop over each batch from the training set\n",
    "    for batch_idx, (data, target) in enumerate(train_loader):\n",
    "        # Copy data to GPU if needed\n",
    "        data = data.to(device)\n",
    "        target = target.to(device)\n",
    "\n",
    "        # Zero gradient buffers\n",
    "        optimizer.zero_grad() \n",
    "        \n",
    "        # Pass data through the network\n",
    "        output = model(data)\n",
    "\n",
    "        # Calculate loss\n",
    "        loss = criterion(output, target)\n",
    "\n",
    "        # Backpropagate\n",
    "        loss.backward()\n",
    "        \n",
    "        # Update weights\n",
    "        optimizer.step()\n",
    "        \n",
    "        if batch_idx % log_interval == 0:\n",
    "            print('Train Epoch: {} [{}/{} ({:.0f}%)]\\tLoss: {:.6f}'.format(\n",
    "                epoch, batch_idx * len(data), len(train_loader.dataset),\n",
    "                100. * batch_idx / len(train_loader), loss.data.item()))"
   ]
  },
  {
   "cell_type": "code",
   "execution_count": 7,
   "metadata": {},
   "outputs": [],
   "source": [
    "def validate(loss_vector, accuracy_vector):\n",
    "    model.eval()\n",
    "    val_loss, correct = 0, 0\n",
    "    for data, target in validation_loader:\n",
    "        data = data.to(device)\n",
    "        target = target.to(device)\n",
    "        output = model(data)\n",
    "        val_loss += criterion(output, target).data.item()\n",
    "        pred = output.data.max(1)[1] # get the index of the max log-probability\n",
    "        correct += pred.eq(target.data).cpu().sum()\n",
    "\n",
    "    val_loss /= len(validation_loader)\n",
    "    loss_vector.append(val_loss)\n",
    "\n",
    "    accuracy = 100. * correct.to(torch.float32) / len(validation_loader.dataset)\n",
    "    accuracy_vector.append(accuracy)\n",
    "    \n",
    "    print('\\nValidation set: Average loss: {:.4f}, Accuracy: {}/{} ({:.0f}%)\\n'.format(\n",
    "        val_loss, correct, len(validation_loader.dataset), accuracy))"
   ]
  },
  {
   "cell_type": "markdown",
   "metadata": {},
   "source": [
    "Now we are ready to train our model using the `train()` function.  An *epoch* means one pass through the whole training data. After each epoch, we evaluate the model using `validate()`. "
   ]
  },
  {
   "cell_type": "code",
   "execution_count": 8,
   "metadata": {},
   "outputs": [
    {
     "name": "stdout",
     "output_type": "stream",
     "text": [
      "Train Epoch: 1 [0/50000 (0%)]\tLoss: 2.300301\n",
      "Train Epoch: 1 [6400/50000 (13%)]\tLoss: 2.213176\n",
      "Train Epoch: 1 [12800/50000 (26%)]\tLoss: 2.116862\n",
      "Train Epoch: 1 [19200/50000 (38%)]\tLoss: 2.039627\n",
      "Train Epoch: 1 [25600/50000 (51%)]\tLoss: 2.019050\n",
      "Train Epoch: 1 [32000/50000 (64%)]\tLoss: 2.085995\n",
      "Train Epoch: 1 [38400/50000 (77%)]\tLoss: 1.945419\n",
      "Train Epoch: 1 [44800/50000 (90%)]\tLoss: 2.048449\n",
      "\n",
      "Validation set: Average loss: 1.8895, Accuracy: 3176/10000 (32%)\n",
      "\n",
      "Train Epoch: 2 [0/50000 (0%)]\tLoss: 1.824625\n",
      "Train Epoch: 2 [6400/50000 (13%)]\tLoss: 2.124786\n",
      "Train Epoch: 2 [12800/50000 (26%)]\tLoss: 1.851503\n",
      "Train Epoch: 2 [19200/50000 (38%)]\tLoss: 1.980909\n",
      "Train Epoch: 2 [25600/50000 (51%)]\tLoss: 1.657628\n",
      "Train Epoch: 2 [32000/50000 (64%)]\tLoss: 1.657877\n",
      "Train Epoch: 2 [38400/50000 (77%)]\tLoss: 1.940417\n",
      "Train Epoch: 2 [44800/50000 (90%)]\tLoss: 2.036721\n",
      "\n",
      "Validation set: Average loss: 1.7785, Accuracy: 3686/10000 (37%)\n",
      "\n",
      "Train Epoch: 3 [0/50000 (0%)]\tLoss: 1.746396\n",
      "Train Epoch: 3 [6400/50000 (13%)]\tLoss: 1.975423\n",
      "Train Epoch: 3 [12800/50000 (26%)]\tLoss: 1.844254\n",
      "Train Epoch: 3 [19200/50000 (38%)]\tLoss: 1.712594\n",
      "Train Epoch: 3 [25600/50000 (51%)]\tLoss: 2.068386\n",
      "Train Epoch: 3 [32000/50000 (64%)]\tLoss: 1.657411\n",
      "Train Epoch: 3 [38400/50000 (77%)]\tLoss: 1.640370\n",
      "Train Epoch: 3 [44800/50000 (90%)]\tLoss: 1.690268\n",
      "\n",
      "Validation set: Average loss: 1.7170, Accuracy: 3869/10000 (39%)\n",
      "\n",
      "Train Epoch: 4 [0/50000 (0%)]\tLoss: 1.994993\n",
      "Train Epoch: 4 [6400/50000 (13%)]\tLoss: 1.602587\n",
      "Train Epoch: 4 [12800/50000 (26%)]\tLoss: 1.620917\n",
      "Train Epoch: 4 [19200/50000 (38%)]\tLoss: 1.796668\n",
      "Train Epoch: 4 [25600/50000 (51%)]\tLoss: 1.886797\n",
      "Train Epoch: 4 [32000/50000 (64%)]\tLoss: 1.495999\n",
      "Train Epoch: 4 [38400/50000 (77%)]\tLoss: 1.814397\n",
      "Train Epoch: 4 [44800/50000 (90%)]\tLoss: 1.836693\n",
      "\n",
      "Validation set: Average loss: 1.6785, Accuracy: 4006/10000 (40%)\n",
      "\n",
      "Train Epoch: 5 [0/50000 (0%)]\tLoss: 2.023328\n",
      "Train Epoch: 5 [6400/50000 (13%)]\tLoss: 1.736933\n",
      "Train Epoch: 5 [12800/50000 (26%)]\tLoss: 1.631859\n",
      "Train Epoch: 5 [19200/50000 (38%)]\tLoss: 1.990589\n",
      "Train Epoch: 5 [25600/50000 (51%)]\tLoss: 1.937734\n",
      "Train Epoch: 5 [32000/50000 (64%)]\tLoss: 1.766155\n",
      "Train Epoch: 5 [38400/50000 (77%)]\tLoss: 1.646292\n",
      "Train Epoch: 5 [44800/50000 (90%)]\tLoss: 1.789034\n",
      "\n",
      "Validation set: Average loss: 1.6466, Accuracy: 4244/10000 (42%)\n",
      "\n",
      "Train Epoch: 6 [0/50000 (0%)]\tLoss: 1.408095\n",
      "Train Epoch: 6 [6400/50000 (13%)]\tLoss: 1.483795\n",
      "Train Epoch: 6 [12800/50000 (26%)]\tLoss: 1.637778\n",
      "Train Epoch: 6 [19200/50000 (38%)]\tLoss: 1.417571\n",
      "Train Epoch: 6 [25600/50000 (51%)]\tLoss: 1.863649\n",
      "Train Epoch: 6 [32000/50000 (64%)]\tLoss: 1.606474\n",
      "Train Epoch: 6 [38400/50000 (77%)]\tLoss: 1.433021\n",
      "Train Epoch: 6 [44800/50000 (90%)]\tLoss: 1.599457\n",
      "\n",
      "Validation set: Average loss: 1.6088, Accuracy: 4298/10000 (43%)\n",
      "\n",
      "Train Epoch: 7 [0/50000 (0%)]\tLoss: 1.550114\n",
      "Train Epoch: 7 [6400/50000 (13%)]\tLoss: 1.566771\n",
      "Train Epoch: 7 [12800/50000 (26%)]\tLoss: 1.620036\n",
      "Train Epoch: 7 [19200/50000 (38%)]\tLoss: 1.951145\n",
      "Train Epoch: 7 [25600/50000 (51%)]\tLoss: 1.799166\n",
      "Train Epoch: 7 [32000/50000 (64%)]\tLoss: 1.846537\n",
      "Train Epoch: 7 [38400/50000 (77%)]\tLoss: 1.885546\n",
      "Train Epoch: 7 [44800/50000 (90%)]\tLoss: 1.619566\n",
      "\n",
      "Validation set: Average loss: 1.5933, Accuracy: 4412/10000 (44%)\n",
      "\n",
      "Train Epoch: 8 [0/50000 (0%)]\tLoss: 1.513374\n",
      "Train Epoch: 8 [6400/50000 (13%)]\tLoss: 1.462738\n",
      "Train Epoch: 8 [12800/50000 (26%)]\tLoss: 1.628192\n",
      "Train Epoch: 8 [19200/50000 (38%)]\tLoss: 1.657256\n",
      "Train Epoch: 8 [25600/50000 (51%)]\tLoss: 1.631958\n",
      "Train Epoch: 8 [32000/50000 (64%)]\tLoss: 1.540876\n",
      "Train Epoch: 8 [38400/50000 (77%)]\tLoss: 1.779697\n",
      "Train Epoch: 8 [44800/50000 (90%)]\tLoss: 1.605344\n",
      "\n",
      "Validation set: Average loss: 1.5919, Accuracy: 4413/10000 (44%)\n",
      "\n",
      "Train Epoch: 9 [0/50000 (0%)]\tLoss: 1.789547\n",
      "Train Epoch: 9 [6400/50000 (13%)]\tLoss: 1.778433\n",
      "Train Epoch: 9 [12800/50000 (26%)]\tLoss: 1.403875\n",
      "Train Epoch: 9 [19200/50000 (38%)]\tLoss: 1.999612\n",
      "Train Epoch: 9 [25600/50000 (51%)]\tLoss: 1.518294\n",
      "Train Epoch: 9 [32000/50000 (64%)]\tLoss: 1.370968\n",
      "Train Epoch: 9 [38400/50000 (77%)]\tLoss: 1.564866\n",
      "Train Epoch: 9 [44800/50000 (90%)]\tLoss: 1.855112\n",
      "\n",
      "Validation set: Average loss: 1.5969, Accuracy: 4289/10000 (43%)\n",
      "\n",
      "Train Epoch: 10 [0/50000 (0%)]\tLoss: 1.542219\n",
      "Train Epoch: 10 [6400/50000 (13%)]\tLoss: 1.614440\n",
      "Train Epoch: 10 [12800/50000 (26%)]\tLoss: 1.886616\n",
      "Train Epoch: 10 [19200/50000 (38%)]\tLoss: 1.682991\n",
      "Train Epoch: 10 [25600/50000 (51%)]\tLoss: 1.744264\n",
      "Train Epoch: 10 [32000/50000 (64%)]\tLoss: 1.510051\n",
      "Train Epoch: 10 [38400/50000 (77%)]\tLoss: 1.334362\n",
      "Train Epoch: 10 [44800/50000 (90%)]\tLoss: 1.539848\n",
      "\n",
      "Validation set: Average loss: 1.6164, Accuracy: 4301/10000 (43%)\n",
      "\n",
      "CPU times: user 1min 39s, sys: 13.9 s, total: 1min 52s\n",
      "Wall time: 1min 45s\n"
     ]
    }
   ],
   "source": [
    "%%time\n",
    "epochs = 10\n",
    "\n",
    "lossv, accv = [], []\n",
    "for epoch in range(1, epochs + 1):\n",
    "    train(epoch)\n",
    "    validate(lossv, accv)"
   ]
  },
  {
   "cell_type": "code",
   "execution_count": null,
   "metadata": {},
   "outputs": [],
   "source": []
  }
 ],
 "metadata": {
  "kernelspec": {
   "display_name": "Python 3",
   "language": "python",
   "name": "python3"
  },
  "language_info": {
   "codemirror_mode": {
    "name": "ipython",
    "version": 3
   },
   "file_extension": ".py",
   "mimetype": "text/x-python",
   "name": "python",
   "nbconvert_exporter": "python",
   "pygments_lexer": "ipython3",
   "version": "3.7.5"
  }
 },
 "nbformat": 4,
 "nbformat_minor": 4
}
